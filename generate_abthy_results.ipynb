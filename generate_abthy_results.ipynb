{
 "metadata": {
  "name": "",
  "signature": "sha256:605eddcdf815be07321574e5b079d2ed8fb4ef92535905fd0a46150b3d01c585"
 },
 "nbformat": 3,
 "nbformat_minor": 0,
 "worksheets": [
  {
   "cells": [
    {
     "cell_type": "markdown",
     "metadata": {},
     "source": [
      "# Introducing Decorated HODs: modeling assembly bias in the galaxy-halo connection"
     ]
    },
    {
     "cell_type": "markdown",
     "metadata": {},
     "source": [
      "This notebook reproduces the results in Hearin et al. (2015). It is designed to work with the exact version of the Halotools package used to generate the results that went into the paper. This exact version is located in the repository you just cloned. Before using the code to make plots, first we will build the frozen version of the package. "
     ]
    },
    {
     "cell_type": "markdown",
     "metadata": {},
     "source": [
      "## Download the Halotools repository"
     ]
    },
    {
     "cell_type": "code",
     "collapsed": false,
     "input": [
      "!git submodule init"
     ],
     "language": "python",
     "metadata": {},
     "outputs": [
      {
       "output_type": "stream",
       "stream": "stdout",
       "text": [
        "Submodule 'halotools' (https://github.com/astropy/halotools.git) registered for path 'halotools'\r\n"
       ]
      }
     ],
     "prompt_number": 1
    },
    {
     "cell_type": "code",
     "collapsed": false,
     "input": [
      "!git submodule update"
     ],
     "language": "python",
     "metadata": {},
     "outputs": [
      {
       "output_type": "stream",
       "stream": "stdout",
       "text": [
        "Cloning into 'halotools'...\r\n"
       ]
      },
      {
       "output_type": "stream",
       "stream": "stdout",
       "text": [
        "remote: Counting objects: 16414, done.\u001b[K\r\n",
        "Receiving objects:   0% (1/16414)   \r"
       ]
      },
      {
       "output_type": "stream",
       "stream": "stdout",
       "text": [
        "Receiving objects:   1% (165/16414)   \r",
        "Receiving objects:   2% (329/16414)   \r"
       ]
      },
      {
       "output_type": "stream",
       "stream": "stdout",
       "text": [
        "Receiving objects:   3% (493/16414)   \r",
        "Receiving objects:   4% (657/16414)   \r",
        "Receiving objects:   5% (821/16414)   \r",
        "Receiving objects:   6% (985/16414)   \r",
        "Receiving objects:   7% (1149/16414)   \r",
        "Receiving objects:   8% (1314/16414)   \r"
       ]
      },
      {
       "output_type": "stream",
       "stream": "stdout",
       "text": [
        "Receiving objects:   9% (1478/16414)   \r",
        "Receiving objects:  10% (1642/16414)   \r",
        "Receiving objects:  11% (1806/16414)   \r",
        "Receiving objects:  12% (1970/16414)   \r",
        "Receiving objects:  13% (2134/16414)   \r"
       ]
      },
      {
       "output_type": "stream",
       "stream": "stdout",
       "text": [
        "Receiving objects:  14% (2298/16414)   \r",
        "Receiving objects:  15% (2463/16414)   \r",
        "Receiving objects:  16% (2627/16414)   \r",
        "Receiving objects:  17% (2791/16414)   \r"
       ]
      },
      {
       "output_type": "stream",
       "stream": "stdout",
       "text": [
        "Receiving objects:  18% (2955/16414)   \r"
       ]
      },
      {
       "output_type": "stream",
       "stream": "stdout",
       "text": [
        "Receiving objects:  19% (3119/16414)   \r"
       ]
      },
      {
       "output_type": "stream",
       "stream": "stdout",
       "text": [
        "Receiving objects:  20% (3283/16414)   \r",
        "Receiving objects:  21% (3447/16414)   \r",
        "Receiving objects:  22% (3612/16414)   \r"
       ]
      },
      {
       "output_type": "stream",
       "stream": "stdout",
       "text": [
        "Receiving objects:  23% (3776/16414)   \r",
        "Receiving objects:  24% (3940/16414)   \r",
        "Receiving objects:  25% (4104/16414)   \r",
        "Receiving objects:  26% (4268/16414)   \r"
       ]
      },
      {
       "output_type": "stream",
       "stream": "stdout",
       "text": [
        "Receiving objects:  27% (4432/16414), 1.49 MiB | 2.76 MiB/s   \r",
        "Receiving objects:  28% (4596/16414), 1.49 MiB | 2.76 MiB/s   \r",
        "Receiving objects:  29% (4761/16414), 1.49 MiB | 2.76 MiB/s   \r",
        "Receiving objects:  30% (4925/16414), 1.49 MiB | 2.76 MiB/s   \r",
        "Receiving objects:  31% (5089/16414), 1.49 MiB | 2.76 MiB/s   \r",
        "Receiving objects:  32% (5253/16414), 1.49 MiB | 2.76 MiB/s   \r",
        "Receiving objects:  33% (5417/16414), 1.49 MiB | 2.76 MiB/s   \r"
       ]
      },
      {
       "output_type": "stream",
       "stream": "stdout",
       "text": [
        "Receiving objects:  34% (5581/16414), 1.49 MiB | 2.76 MiB/s   \r",
        "Receiving objects:  35% (5745/16414), 1.49 MiB | 2.76 MiB/s   \r",
        "Receiving objects:  36% (5910/16414), 1.49 MiB | 2.76 MiB/s   \r",
        "Receiving objects:  37% (6074/16414), 1.49 MiB | 2.76 MiB/s   \r",
        "Receiving objects:  38% (6238/16414), 1.49 MiB | 2.76 MiB/s   \r"
       ]
      },
      {
       "output_type": "stream",
       "stream": "stdout",
       "text": [
        "Receiving objects:  39% (6402/16414), 1.49 MiB | 2.76 MiB/s   \r",
        "Receiving objects:  40% (6566/16414), 1.49 MiB | 2.76 MiB/s   \r",
        "Receiving objects:  41% (6730/16414), 1.49 MiB | 2.76 MiB/s   \r"
       ]
      },
      {
       "output_type": "stream",
       "stream": "stdout",
       "text": [
        "Receiving objects:  42% (6894/16414), 1.49 MiB | 2.76 MiB/s   \r",
        "Receiving objects:  43% (7059/16414), 1.49 MiB | 2.76 MiB/s   \r",
        "Receiving objects:  44% (7223/16414), 1.49 MiB | 2.76 MiB/s   \r"
       ]
      },
      {
       "output_type": "stream",
       "stream": "stdout",
       "text": [
        "Receiving objects:  45% (7387/16414), 1.49 MiB | 2.76 MiB/s   \r",
        "Receiving objects:  46% (7551/16414), 1.49 MiB | 2.76 MiB/s   \r"
       ]
      },
      {
       "output_type": "stream",
       "stream": "stdout",
       "text": [
        "Receiving objects:  47% (7715/16414), 1.49 MiB | 2.76 MiB/s   \r",
        "Receiving objects:  48% (7879/16414), 1.49 MiB | 2.76 MiB/s   \r",
        "Receiving objects:  49% (8043/16414), 1.49 MiB | 2.76 MiB/s   \r",
        "Receiving objects:  50% (8207/16414), 1.49 MiB | 2.76 MiB/s   \r"
       ]
      },
      {
       "output_type": "stream",
       "stream": "stdout",
       "text": [
        "Receiving objects:  51% (8372/16414), 1.49 MiB | 2.76 MiB/s   \r"
       ]
      },
      {
       "output_type": "stream",
       "stream": "stdout",
       "text": [
        "Receiving objects:  52% (8536/16414), 1.49 MiB | 2.76 MiB/s   \r",
        "Receiving objects:  53% (8700/16414), 1.49 MiB | 2.76 MiB/s   \r"
       ]
      },
      {
       "output_type": "stream",
       "stream": "stdout",
       "text": [
        "Receiving objects:  54% (8864/16414), 1.49 MiB | 2.76 MiB/s   \r",
        "Receiving objects:  55% (9028/16414), 1.49 MiB | 2.76 MiB/s   \r",
        "Receiving objects:  56% (9192/16414), 1.49 MiB | 2.76 MiB/s   \r",
        "Receiving objects:  56% (9275/16414), 1.49 MiB | 2.76 MiB/s   \r",
        "Receiving objects:  57% (9356/16414), 1.49 MiB | 2.76 MiB/s   \r"
       ]
      },
      {
       "output_type": "stream",
       "stream": "stdout",
       "text": [
        "Receiving objects:  58% (9521/16414), 2.89 MiB | 2.76 MiB/s   \r",
        "Receiving objects:  59% (9685/16414), 2.89 MiB | 2.76 MiB/s   \r",
        "Receiving objects:  60% (9849/16414), 2.89 MiB | 2.76 MiB/s   \r",
        "Receiving objects:  61% (10013/16414), 2.89 MiB | 2.76 MiB/s   \r"
       ]
      },
      {
       "output_type": "stream",
       "stream": "stdout",
       "text": [
        "Receiving objects:  62% (10177/16414), 2.89 MiB | 2.76 MiB/s   \r",
        "Receiving objects:  63% (10341/16414), 2.89 MiB | 2.76 MiB/s   \r",
        "Receiving objects:  64% (10505/16414), 2.89 MiB | 2.76 MiB/s   \r",
        "Receiving objects:  65% (10670/16414), 2.89 MiB | 2.76 MiB/s   \r",
        "Receiving objects:  66% (10834/16414), 2.89 MiB | 2.76 MiB/s   \r",
        "Receiving objects:  67% (10998/16414), 2.89 MiB | 2.76 MiB/s   \r",
        "Receiving objects:  68% (11162/16414), 2.89 MiB | 2.76 MiB/s   \r",
        "Receiving objects:  69% (11326/16414), 2.89 MiB | 2.76 MiB/s   \r"
       ]
      },
      {
       "output_type": "stream",
       "stream": "stdout",
       "text": [
        "Receiving objects:  70% (11490/16414), 2.89 MiB | 2.76 MiB/s   \r",
        "Receiving objects:  71% (11654/16414), 2.89 MiB | 2.76 MiB/s   \r"
       ]
      },
      {
       "output_type": "stream",
       "stream": "stdout",
       "text": [
        "Receiving objects:  72% (11819/16414), 2.89 MiB | 2.76 MiB/s   \r",
        "Receiving objects:  73% (11983/16414), 2.89 MiB | 2.76 MiB/s   \r",
        "Receiving objects:  74% (12147/16414), 2.89 MiB | 2.76 MiB/s   \r",
        "Receiving objects:  75% (12311/16414), 2.89 MiB | 2.76 MiB/s   \r",
        "Receiving objects:  76% (12475/16414), 2.89 MiB | 2.76 MiB/s   \r",
        "Receiving objects:  77% (12639/16414), 2.89 MiB | 2.76 MiB/s   \r"
       ]
      },
      {
       "output_type": "stream",
       "stream": "stdout",
       "text": [
        "Receiving objects:  78% (12803/16414), 2.89 MiB | 2.76 MiB/s   \r"
       ]
      },
      {
       "output_type": "stream",
       "stream": "stdout",
       "text": [
        "Receiving objects:  79% (12968/16414), 2.89 MiB | 2.76 MiB/s   \r",
        "Receiving objects:  80% (13132/16414), 2.89 MiB | 2.76 MiB/s   \r",
        "Receiving objects:  81% (13296/16414), 2.89 MiB | 2.76 MiB/s   \r",
        "Receiving objects:  82% (13460/16414), 2.89 MiB | 2.76 MiB/s   \r"
       ]
      },
      {
       "output_type": "stream",
       "stream": "stdout",
       "text": [
        "Receiving objects:  83% (13624/16414), 2.89 MiB | 2.76 MiB/s   \r",
        "Receiving objects:  84% (13788/16414), 2.89 MiB | 2.76 MiB/s   \r",
        "Receiving objects:  85% (13952/16414), 2.89 MiB | 2.76 MiB/s   \r",
        "Receiving objects:  86% (14117/16414), 2.89 MiB | 2.76 MiB/s   \r",
        "Receiving objects:  87% (14281/16414), 2.89 MiB | 2.76 MiB/s   \r",
        "Receiving objects:  88% (14445/16414), 2.89 MiB | 2.76 MiB/s   \r"
       ]
      },
      {
       "output_type": "stream",
       "stream": "stdout",
       "text": [
        "Receiving objects:  89% (14609/16414), 2.89 MiB | 2.76 MiB/s   \r",
        "Receiving objects:  90% (14773/16414), 2.89 MiB | 2.76 MiB/s   \r",
        "Receiving objects:  91% (14937/16414), 2.89 MiB | 2.76 MiB/s   \r",
        "Receiving objects:  92% (15101/16414), 2.89 MiB | 2.76 MiB/s   \r"
       ]
      },
      {
       "output_type": "stream",
       "stream": "stdout",
       "text": [
        "Receiving objects:  93% (15266/16414), 2.89 MiB | 2.76 MiB/s   \r",
        "Receiving objects:  94% (15430/16414), 2.89 MiB | 2.76 MiB/s   \r",
        "Receiving objects:  95% (15594/16414), 2.89 MiB | 2.76 MiB/s   \r",
        "Receiving objects:  96% (15758/16414), 2.89 MiB | 2.76 MiB/s   \r",
        "Receiving objects:  97% (15922/16414), 2.89 MiB | 2.76 MiB/s   \r",
        "Receiving objects:  98% (16086/16414), 2.89 MiB | 2.76 MiB/s   \r"
       ]
      },
      {
       "output_type": "stream",
       "stream": "stdout",
       "text": [
        "Receiving objects:  99% (16250/16414), 4.32 MiB | 2.78 MiB/s   \r",
        "remote: Total 16414 (delta 0), reused 0 (delta 0), pack-reused 16414\u001b[K\r\n",
        "Receiving objects: 100% (16414/16414), 4.32 MiB | 2.78 MiB/s   \r",
        "Receiving objects: 100% (16414/16414), 4.36 MiB | 2.78 MiB/s, done.\r\n",
        "Resolving deltas:   0% (0/12269)   \r",
        "Resolving deltas:   1% (124/12269)   \r",
        "Resolving deltas:   2% (259/12269)   \r",
        "Resolving deltas:   3% (381/12269)   \r",
        "Resolving deltas:   4% (495/12269)   \r",
        "Resolving deltas:   5% (623/12269)   \r",
        "Resolving deltas:   6% (745/12269)   \r",
        "Resolving deltas:   7% (889/12269)   \r"
       ]
      },
      {
       "output_type": "stream",
       "stream": "stdout",
       "text": [
        "Resolving deltas:   8% (988/12269)   \r",
        "Resolving deltas:   9% (1114/12269)   \r",
        "Resolving deltas:  10% (1228/12269)   \r",
        "Resolving deltas:  11% (1380/12269)   \r",
        "Resolving deltas:  12% (1499/12269)   \r",
        "Resolving deltas:  13% (1614/12269)   \r",
        "Resolving deltas:  14% (1720/12269)   \r",
        "Resolving deltas:  16% (2085/12269)   \r",
        "Resolving deltas:  17% (2113/12269)   \r",
        "Resolving deltas:  18% (2255/12269)   \r",
        "Resolving deltas:  19% (2348/12269)   \r",
        "Resolving deltas:  20% (2463/12269)   \r",
        "Resolving deltas:  21% (2588/12269)   \r",
        "Resolving deltas:  22% (2756/12269)   \r",
        "Resolving deltas:  23% (2853/12269)   \r",
        "Resolving deltas:  24% (2978/12269)   \r",
        "Resolving deltas:  25% (3076/12269)   \r",
        "Resolving deltas:  26% (3198/12269)   \r",
        "Resolving deltas:  27% (3336/12269)   \r",
        "Resolving deltas:  28% (3456/12269)   \r",
        "Resolving deltas:  29% (3573/12269)   \r",
        "Resolving deltas:  30% (3706/12269)   \r",
        "Resolving deltas:  31% (3910/12269)   \r",
        "Resolving deltas:  32% (3933/12269)   \r",
        "Resolving deltas:  33% (4050/12269)   \r",
        "Resolving deltas:  34% (4185/12269)   \r"
       ]
      },
      {
       "output_type": "stream",
       "stream": "stdout",
       "text": [
        "Resolving deltas:  35% (4409/12269)   \r",
        "Resolving deltas:  36% (4457/12269)   \r",
        "Resolving deltas:  39% (4828/12269)   \r",
        "Resolving deltas:  40% (4933/12269)   \r",
        "Resolving deltas:  41% (5051/12269)   \r",
        "Resolving deltas:  42% (5154/12269)   \r",
        "Resolving deltas:  43% (5307/12269)   \r",
        "Resolving deltas:  44% (5408/12269)   \r",
        "Resolving deltas:  45% (5526/12269)   \r",
        "Resolving deltas:  46% (5679/12269)   \r",
        "Resolving deltas:  49% (6103/12269)   \r",
        "Resolving deltas:  50% (6246/12269)   \r",
        "Resolving deltas:  51% (6271/12269)   \r",
        "Resolving deltas:  52% (6472/12269)   \r",
        "Resolving deltas:  53% (6537/12269)   \r",
        "Resolving deltas:  54% (6660/12269)   \r",
        "Resolving deltas:  55% (6790/12269)   \r",
        "Resolving deltas:  57% (7091/12269)   \r",
        "Resolving deltas:  58% (7202/12269)   \r",
        "Resolving deltas:  59% (7287/12269)   \r",
        "Resolving deltas:  60% (7369/12269)   \r",
        "Resolving deltas:  61% (7485/12269)   \r"
       ]
      },
      {
       "output_type": "stream",
       "stream": "stdout",
       "text": [
        "Resolving deltas:  63% (7787/12269)   \r",
        "Resolving deltas:  64% (7863/12269)   \r",
        "Resolving deltas:  65% (7989/12269)   \r",
        "Resolving deltas:  66% (8169/12269)   \r",
        "Resolving deltas:  68% (8413/12269)   \r",
        "Resolving deltas:  69% (8466/12269)   \r",
        "Resolving deltas:  70% (8609/12269)   \r",
        "Resolving deltas:  71% (8754/12269)   \r",
        "Resolving deltas:  72% (8920/12269)   \r",
        "Resolving deltas:  73% (8959/12269)   \r",
        "Resolving deltas:  74% (9082/12269)   \r",
        "Resolving deltas:  75% (9204/12269)   \r",
        "Resolving deltas:  76% (9371/12269)   \r",
        "Resolving deltas:  77% (9463/12269)   \r",
        "Resolving deltas:  78% (9571/12269)   \r",
        "Resolving deltas:  79% (9705/12269)   \r",
        "Resolving deltas:  80% (9827/12269)   \r",
        "Resolving deltas:  81% (10019/12269)   \r",
        "Resolving deltas:  82% (10165/12269)   \r",
        "Resolving deltas:  83% (10202/12269)   \r",
        "Resolving deltas:  84% (10357/12269)   \r",
        "Resolving deltas:  85% (10432/12269)   \r",
        "Resolving deltas:  86% (10577/12269)   \r",
        "Resolving deltas:  87% (10705/12269)   \r"
       ]
      },
      {
       "output_type": "stream",
       "stream": "stdout",
       "text": [
        "Resolving deltas:  88% (10807/12269)   \r",
        "Resolving deltas:  89% (10922/12269)   \r",
        "Resolving deltas:  90% (11095/12269)   \r",
        "Resolving deltas:  91% (11176/12269)   \r",
        "Resolving deltas:  92% (11391/12269)   \r",
        "Resolving deltas:  93% (11411/12269)   \r",
        "Resolving deltas:  94% (11533/12269)   \r",
        "Resolving deltas:  95% (11675/12269)   \r",
        "Resolving deltas:  96% (11849/12269)   \r",
        "Resolving deltas:  97% (11906/12269)   \r",
        "Resolving deltas:  98% (12034/12269)   \r",
        "Resolving deltas:  99% (12152/12269)   \r",
        "Resolving deltas: 100% (12269/12269)   \r",
        "Resolving deltas: 100% (12269/12269), done.\r\n",
        "Checking connectivity... "
       ]
      },
      {
       "output_type": "stream",
       "stream": "stdout",
       "text": [
        "done.\r\n"
       ]
      },
      {
       "output_type": "stream",
       "stream": "stdout",
       "text": [
        "Submodule path 'halotools': checked out '467ba53ac2619c3dc911bbc9d504073190ae6e24'\r\n"
       ]
      }
     ],
     "prompt_number": 2
    },
    {
     "cell_type": "markdown",
     "metadata": {},
     "source": [
      "## Build Halotools"
     ]
    },
    {
     "cell_type": "code",
     "collapsed": false,
     "input": [
      "try:\n",
      "    shutil.rmtree(os.path.join('halotools', 'build'))\n",
      "except OSError:\n",
      "    pass"
     ],
     "language": "python",
     "metadata": {},
     "outputs": []
    },
    {
     "cell_type": "code",
     "collapsed": false,
     "input": [
      "cd halotools"
     ],
     "language": "python",
     "metadata": {},
     "outputs": []
    },
    {
     "cell_type": "code",
     "collapsed": false,
     "input": [
      "!python setup.py build"
     ],
     "language": "python",
     "metadata": {},
     "outputs": []
    },
    {
     "cell_type": "code",
     "collapsed": false,
     "input": [
      "cd .."
     ],
     "language": "python",
     "metadata": {},
     "outputs": []
    },
    {
     "cell_type": "code",
     "collapsed": false,
     "input": [
      "import os\n",
      "import sys\n",
      "\n",
      "builddirs = os.listdir(os.path.join('halotools', 'build'))\n",
      "for dir in builddirs:\n",
      "    smallversion  = '.'.join(sys.version.split()[0].split('.')[:-1])\n",
      "    if dir.startswith('lib') and smallversion in dir:\n",
      "        libdir = os.path.join('halotools', 'build', dir)\n",
      "        break\n",
      "    \n",
      "sys.path.insert(0, libdir)"
     ],
     "language": "python",
     "metadata": {},
     "outputs": [],
     "prompt_number": 4
    },
    {
     "cell_type": "markdown",
     "metadata": {},
     "source": [
      "## Download the halo catalog"
     ]
    },
    {
     "cell_type": "markdown",
     "metadata": {},
     "source": [
      "The next line of code downloads the primary halo catalog upon which the abthy results are based: z=0 Bolshoi halos identified by Rockstar. The version you will download has been pre-processed by Halotools and is frozen. These halos differ from the latest version of the Rockstar halos made publicly available by Peter Behroozi at `http://www.slac.stanford.edu/~behroozi/Bolshoi_Catalogs`. \n",
      "\n",
      "By executing the following line of code, you will download the pre-processed halo catalog to the Halotools cache directory on your local machine, `$HOME/.astropy.cache/halotools`. "
     ]
    },
    {
     "cell_type": "code",
     "collapsed": false,
     "input": [],
     "language": "python",
     "metadata": {},
     "outputs": [],
     "prompt_number": 4
    },
    {
     "cell_type": "code",
     "collapsed": false,
     "input": [],
     "language": "python",
     "metadata": {},
     "outputs": []
    }
   ],
   "metadata": {}
  }
 ]
}