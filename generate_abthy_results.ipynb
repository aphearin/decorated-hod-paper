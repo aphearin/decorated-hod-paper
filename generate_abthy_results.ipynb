{
 "metadata": {
  "name": "",
  "signature": "sha256:a2145f4c16ac4f92f496c4ba29ba40815048e59a9fe749c561e3bd0ae2f602e2"
 },
 "nbformat": 3,
 "nbformat_minor": 0,
 "worksheets": [
  {
   "cells": [
    {
     "cell_type": "markdown",
     "metadata": {},
     "source": [
      "# Introducing Decorated HODs: modeling assembly bias in the galaxy-halo connection"
     ]
    },
    {
     "cell_type": "markdown",
     "metadata": {},
     "source": [
      "This notebook reproduces the results in Hearin et al. (2015). It is designed to work with the exact version of the Halotools package used to generate the results that went into the paper. This exact version is located in the repository you just cloned. Before using the code to make plots, first we will build the frozen version of the package. "
     ]
    },
    {
     "cell_type": "markdown",
     "metadata": {},
     "source": [
      "## Download the Halotools repository"
     ]
    },
    {
     "cell_type": "code",
     "collapsed": false,
     "input": [
      "!git submodule init"
     ],
     "language": "python",
     "metadata": {},
     "outputs": [
      {
       "output_type": "stream",
       "stream": "stdout",
       "text": [
        "Submodule 'halotools' (https://github.com/astropy/halotools.git) registered for path 'halotools'\r\n"
       ]
      }
     ],
     "prompt_number": 1
    },
    {
     "cell_type": "code",
     "collapsed": false,
     "input": [
      "!git submodule update"
     ],
     "language": "python",
     "metadata": {},
     "outputs": [
      {
       "output_type": "stream",
       "stream": "stdout",
       "text": [
        "Cloning into 'halotools'...\r\n"
       ]
      },
      {
       "output_type": "stream",
       "stream": "stdout",
       "text": [
        "remote: Counting objects: 16414, done.\u001b[K\r\n",
        "Receiving objects:   0% (1/16414)   \r",
        "Receiving objects:   1% (165/16414)   \r"
       ]
      },
      {
       "output_type": "stream",
       "stream": "stdout",
       "text": [
        "Receiving objects:   2% (329/16414)   \r",
        "Receiving objects:   3% (493/16414)   \r",
        "Receiving objects:   4% (657/16414)   \r"
       ]
      },
      {
       "output_type": "stream",
       "stream": "stdout",
       "text": [
        "Receiving objects:   5% (821/16414)   \r",
        "Receiving objects:   6% (985/16414)   \r",
        "Receiving objects:   7% (1149/16414)   \r"
       ]
      },
      {
       "output_type": "stream",
       "stream": "stdout",
       "text": [
        "Receiving objects:   8% (1314/16414)   \r",
        "Receiving objects:   9% (1478/16414)   \r",
        "Receiving objects:  10% (1642/16414)   \r"
       ]
      },
      {
       "output_type": "stream",
       "stream": "stdout",
       "text": [
        "Receiving objects:  11% (1806/16414)   \r",
        "Receiving objects:  12% (1970/16414)   \r",
        "Receiving objects:  13% (2134/16414)   \r",
        "Receiving objects:  14% (2298/16414)   \r"
       ]
      },
      {
       "output_type": "stream",
       "stream": "stdout",
       "text": [
        "Receiving objects:  15% (2463/16414)   \r",
        "Receiving objects:  16% (2627/16414)   \r",
        "Receiving objects:  17% (2791/16414)   \r"
       ]
      },
      {
       "output_type": "stream",
       "stream": "stdout",
       "text": [
        "Receiving objects:  18% (2955/16414)   \r"
       ]
      },
      {
       "output_type": "stream",
       "stream": "stdout",
       "text": [
        "Receiving objects:  19% (3119/16414)   \r",
        "Receiving objects:  20% (3283/16414)   \r"
       ]
      },
      {
       "output_type": "stream",
       "stream": "stdout",
       "text": [
        "Receiving objects:  21% (3447/16414), 1.23 MiB | 2.45 MiB/s   \r"
       ]
      },
      {
       "output_type": "stream",
       "stream": "stdout",
       "text": [
        "Receiving objects:  22% (3612/16414), 1.23 MiB | 2.45 MiB/s   \r",
        "Receiving objects:  23% (3776/16414), 1.23 MiB | 2.45 MiB/s   \r",
        "Receiving objects:  24% (3940/16414), 1.23 MiB | 2.45 MiB/s   \r",
        "Receiving objects:  25% (4104/16414), 1.23 MiB | 2.45 MiB/s   \r",
        "Receiving objects:  26% (4268/16414), 1.23 MiB | 2.45 MiB/s   \r",
        "Receiving objects:  27% (4432/16414), 1.23 MiB | 2.45 MiB/s   \r",
        "Receiving objects:  28% (4596/16414), 1.23 MiB | 2.45 MiB/s   \r"
       ]
      },
      {
       "output_type": "stream",
       "stream": "stdout",
       "text": [
        "Receiving objects:  29% (4761/16414), 1.23 MiB | 2.45 MiB/s   \r",
        "Receiving objects:  30% (4925/16414), 1.23 MiB | 2.45 MiB/s   \r",
        "Receiving objects:  31% (5089/16414), 1.23 MiB | 2.45 MiB/s   \r",
        "Receiving objects:  32% (5253/16414), 1.23 MiB | 2.45 MiB/s   \r",
        "Receiving objects:  33% (5417/16414), 1.23 MiB | 2.45 MiB/s   \r",
        "Receiving objects:  34% (5581/16414), 1.23 MiB | 2.45 MiB/s   \r"
       ]
      },
      {
       "output_type": "stream",
       "stream": "stdout",
       "text": [
        "Receiving objects:  35% (5745/16414), 1.23 MiB | 2.45 MiB/s   \r",
        "Receiving objects:  36% (5910/16414), 1.23 MiB | 2.45 MiB/s   \r",
        "Receiving objects:  37% (6074/16414), 1.23 MiB | 2.45 MiB/s   \r",
        "Receiving objects:  38% (6238/16414), 1.23 MiB | 2.45 MiB/s   \r"
       ]
      },
      {
       "output_type": "stream",
       "stream": "stdout",
       "text": [
        "Receiving objects:  39% (6402/16414), 1.23 MiB | 2.45 MiB/s   \r",
        "Receiving objects:  40% (6566/16414), 1.23 MiB | 2.45 MiB/s   \r",
        "Receiving objects:  41% (6730/16414), 1.23 MiB | 2.45 MiB/s   \r",
        "Receiving objects:  42% (6894/16414), 1.23 MiB | 2.45 MiB/s   \r",
        "Receiving objects:  43% (7059/16414), 1.23 MiB | 2.45 MiB/s   \r"
       ]
      },
      {
       "output_type": "stream",
       "stream": "stdout",
       "text": [
        "Receiving objects:  44% (7223/16414), 1.23 MiB | 2.45 MiB/s   \r",
        "Receiving objects:  45% (7387/16414), 1.23 MiB | 2.45 MiB/s   \r"
       ]
      },
      {
       "output_type": "stream",
       "stream": "stdout",
       "text": [
        "Receiving objects:  46% (7551/16414), 1.23 MiB | 2.45 MiB/s   \r",
        "Receiving objects:  47% (7715/16414), 1.23 MiB | 2.45 MiB/s   \r",
        "Receiving objects:  48% (7879/16414), 1.23 MiB | 2.45 MiB/s   \r",
        "Receiving objects:  49% (8043/16414), 1.23 MiB | 2.45 MiB/s   \r",
        "Receiving objects:  50% (8207/16414), 1.23 MiB | 2.45 MiB/s   \r"
       ]
      },
      {
       "output_type": "stream",
       "stream": "stdout",
       "text": [
        "Receiving objects:  51% (8372/16414), 1.23 MiB | 2.45 MiB/s   \r"
       ]
      },
      {
       "output_type": "stream",
       "stream": "stdout",
       "text": [
        "Receiving objects:  52% (8536/16414), 1.23 MiB | 2.45 MiB/s   \r"
       ]
      },
      {
       "output_type": "stream",
       "stream": "stdout",
       "text": [
        "Receiving objects:  53% (8700/16414), 1.23 MiB | 2.45 MiB/s   \r",
        "Receiving objects:  54% (8864/16414), 1.23 MiB | 2.45 MiB/s   \r",
        "Receiving objects:  55% (9028/16414), 1.23 MiB | 2.45 MiB/s   \r",
        "Receiving objects:  56% (9192/16414), 1.23 MiB | 2.45 MiB/s   \r",
        "Receiving objects:  57% (9356/16414), 1.23 MiB | 2.45 MiB/s   \r"
       ]
      },
      {
       "output_type": "stream",
       "stream": "stdout",
       "text": [
        "Receiving objects:  57% (9392/16414), 1.23 MiB | 2.45 MiB/s   \r",
        "Receiving objects:  58% (9521/16414), 2.85 MiB | 2.84 MiB/s   \r",
        "Receiving objects:  59% (9685/16414), 2.85 MiB | 2.84 MiB/s   \r",
        "Receiving objects:  60% (9849/16414), 2.85 MiB | 2.84 MiB/s   \r",
        "Receiving objects:  61% (10013/16414), 2.85 MiB | 2.84 MiB/s   \r"
       ]
      },
      {
       "output_type": "stream",
       "stream": "stdout",
       "text": [
        "Receiving objects:  62% (10177/16414), 2.85 MiB | 2.84 MiB/s   \r",
        "Receiving objects:  63% (10341/16414), 2.85 MiB | 2.84 MiB/s   \r",
        "Receiving objects:  64% (10505/16414), 2.85 MiB | 2.84 MiB/s   \r",
        "Receiving objects:  65% (10670/16414), 2.85 MiB | 2.84 MiB/s   \r",
        "Receiving objects:  66% (10834/16414), 2.85 MiB | 2.84 MiB/s   \r",
        "Receiving objects:  67% (10998/16414), 2.85 MiB | 2.84 MiB/s   \r"
       ]
      },
      {
       "output_type": "stream",
       "stream": "stdout",
       "text": [
        "Receiving objects:  68% (11162/16414), 2.85 MiB | 2.84 MiB/s   \r",
        "Receiving objects:  69% (11326/16414), 2.85 MiB | 2.84 MiB/s   \r"
       ]
      },
      {
       "output_type": "stream",
       "stream": "stdout",
       "text": [
        "Receiving objects:  70% (11490/16414), 2.85 MiB | 2.84 MiB/s   \r",
        "Receiving objects:  71% (11654/16414), 2.85 MiB | 2.84 MiB/s   \r",
        "Receiving objects:  72% (11819/16414), 2.85 MiB | 2.84 MiB/s   \r"
       ]
      },
      {
       "output_type": "stream",
       "stream": "stdout",
       "text": [
        "Receiving objects:  73% (11983/16414), 2.85 MiB | 2.84 MiB/s   \r",
        "Receiving objects:  74% (12147/16414), 2.85 MiB | 2.84 MiB/s   \r",
        "Receiving objects:  75% (12311/16414), 2.85 MiB | 2.84 MiB/s   \r",
        "Receiving objects:  76% (12475/16414), 2.85 MiB | 2.84 MiB/s   \r",
        "Receiving objects:  77% (12639/16414), 2.85 MiB | 2.84 MiB/s   \r"
       ]
      },
      {
       "output_type": "stream",
       "stream": "stdout",
       "text": [
        "Receiving objects:  78% (12803/16414), 2.85 MiB | 2.84 MiB/s   \r"
       ]
      },
      {
       "output_type": "stream",
       "stream": "stdout",
       "text": [
        "Receiving objects:  79% (12968/16414), 2.85 MiB | 2.84 MiB/s   \r",
        "Receiving objects:  80% (13132/16414), 2.85 MiB | 2.84 MiB/s   \r",
        "Receiving objects:  81% (13296/16414), 2.85 MiB | 2.84 MiB/s   \r"
       ]
      },
      {
       "output_type": "stream",
       "stream": "stdout",
       "text": [
        "Receiving objects:  82% (13460/16414), 2.85 MiB | 2.84 MiB/s   \r",
        "Receiving objects:  83% (13624/16414), 2.85 MiB | 2.84 MiB/s   \r",
        "Receiving objects:  84% (13788/16414), 2.85 MiB | 2.84 MiB/s   \r",
        "Receiving objects:  85% (13952/16414), 2.85 MiB | 2.84 MiB/s   \r",
        "Receiving objects:  86% (14117/16414), 2.85 MiB | 2.84 MiB/s   \r",
        "Receiving objects:  87% (14281/16414), 2.85 MiB | 2.84 MiB/s   \r",
        "Receiving objects:  88% (14445/16414), 2.85 MiB | 2.84 MiB/s   \r"
       ]
      },
      {
       "output_type": "stream",
       "stream": "stdout",
       "text": [
        "Receiving objects:  89% (14609/16414), 2.85 MiB | 2.84 MiB/s   \r",
        "Receiving objects:  90% (14773/16414), 4.06 MiB | 2.70 MiB/s   \r"
       ]
      },
      {
       "output_type": "stream",
       "stream": "stdout",
       "text": [
        "Receiving objects:  91% (14937/16414), 4.06 MiB | 2.70 MiB/s   \r",
        "Receiving objects:  92% (15101/16414), 4.06 MiB | 2.70 MiB/s   \r",
        "Receiving objects:  93% (15266/16414), 4.06 MiB | 2.70 MiB/s   \r",
        "Receiving objects:  94% (15430/16414), 4.06 MiB | 2.70 MiB/s   \r",
        "Receiving objects:  95% (15594/16414), 4.06 MiB | 2.70 MiB/s   \r"
       ]
      },
      {
       "output_type": "stream",
       "stream": "stdout",
       "text": [
        "Receiving objects:  96% (15758/16414), 4.06 MiB | 2.70 MiB/s   \r",
        "Receiving objects:  97% (15922/16414), 4.06 MiB | 2.70 MiB/s   \r",
        "Receiving objects:  98% (16086/16414), 4.06 MiB | 2.70 MiB/s   \r",
        "Receiving objects:  99% (16250/16414), 4.06 MiB | 2.70 MiB/s   \r"
       ]
      },
      {
       "output_type": "stream",
       "stream": "stdout",
       "text": [
        "remote: Total 16414 (delta 0), reused 0 (delta 0), pack-reused 16414\u001b[K\r\n",
        "Receiving objects: 100% (16414/16414), 4.06 MiB | 2.70 MiB/s   \r",
        "Receiving objects: 100% (16414/16414), 4.36 MiB | 2.70 MiB/s, done.\r\n",
        "Resolving deltas:   0% (0/12269)   \r",
        "Resolving deltas:   1% (123/12269)   \r",
        "Resolving deltas:   2% (261/12269)   \r",
        "Resolving deltas:   3% (386/12269)   \r",
        "Resolving deltas:   4% (495/12269)   \r",
        "Resolving deltas:   5% (616/12269)   \r",
        "Resolving deltas:   6% (744/12269)   \r",
        "Resolving deltas:   7% (869/12269)   \r",
        "Resolving deltas:   8% (984/12269)   \r",
        "Resolving deltas:   9% (1110/12269)   \r",
        "Resolving deltas:  10% (1254/12269)   \r",
        "Resolving deltas:  11% (1366/12269)   \r",
        "Resolving deltas:  13% (1614/12269)   \r",
        "Resolving deltas:  14% (1735/12269)   \r",
        "Resolving deltas:  15% (1843/12269)   \r",
        "Resolving deltas:  16% (2083/12269)   \r",
        "Resolving deltas:  17% (2109/12269)   \r"
       ]
      },
      {
       "output_type": "stream",
       "stream": "stdout",
       "text": [
        "Resolving deltas:  18% (2258/12269)   \r",
        "Resolving deltas:  19% (2337/12269)   \r",
        "Resolving deltas:  20% (2459/12269)   \r",
        "Resolving deltas:  21% (2598/12269)   \r",
        "Resolving deltas:  22% (2760/12269)   \r",
        "Resolving deltas:  23% (2843/12269)   \r",
        "Resolving deltas:  24% (2947/12269)   \r",
        "Resolving deltas:  25% (3079/12269)   \r",
        "Resolving deltas:  26% (3204/12269)   \r",
        "Resolving deltas:  27% (3334/12269)   \r",
        "Resolving deltas:  28% (3454/12269)   \r",
        "Resolving deltas:  29% (3582/12269)   \r",
        "Resolving deltas:  30% (3712/12269)   \r",
        "Resolving deltas:  31% (3876/12269)   \r",
        "Resolving deltas:  32% (3929/12269)   \r",
        "Resolving deltas:  33% (4054/12269)   \r",
        "Resolving deltas:  34% (4173/12269)   \r",
        "Resolving deltas:  35% (4400/12269)   \r",
        "Resolving deltas:  36% (4456/12269)   \r",
        "Resolving deltas:  37% (4543/12269)   \r",
        "Resolving deltas:  39% (4832/12269)   \r",
        "Resolving deltas:  40% (4910/12269)   \r",
        "Resolving deltas:  41% (5036/12269)   \r",
        "Resolving deltas:  42% (5154/12269)   \r",
        "Resolving deltas:  43% (5283/12269)   \r",
        "Resolving deltas:  44% (5458/12269)   \r",
        "Resolving deltas:  45% (5566/12269)   \r"
       ]
      },
      {
       "output_type": "stream",
       "stream": "stdout",
       "text": [
        "Resolving deltas:  46% (5670/12269)   \r",
        "Resolving deltas:  49% (6097/12269)   \r",
        "Resolving deltas:  50% (6211/12269)   \r",
        "Resolving deltas:  51% (6259/12269)   \r",
        "Resolving deltas:  52% (6424/12269)   \r",
        "Resolving deltas:  53% (6555/12269)   \r",
        "Resolving deltas:  54% (6635/12269)   \r",
        "Resolving deltas:  55% (6758/12269)   \r",
        "Resolving deltas:  57% (7111/12269)   \r",
        "Resolving deltas:  58% (7129/12269)   \r",
        "Resolving deltas:  59% (7246/12269)   \r",
        "Resolving deltas:  60% (7384/12269)   \r",
        "Resolving deltas:  61% (7487/12269)   \r",
        "Resolving deltas:  63% (7786/12269)   \r",
        "Resolving deltas:  64% (7855/12269)   \r",
        "Resolving deltas:  65% (7977/12269)   \r",
        "Resolving deltas:  66% (8130/12269)   \r",
        "Resolving deltas:  68% (8421/12269)   \r",
        "Resolving deltas:  69% (8475/12269)   \r",
        "Resolving deltas:  70% (8612/12269)   \r",
        "Resolving deltas:  71% (8738/12269)   \r",
        "Resolving deltas:  72% (8903/12269)   \r"
       ]
      },
      {
       "output_type": "stream",
       "stream": "stdout",
       "text": [
        "Resolving deltas:  73% (8962/12269)   \r",
        "Resolving deltas:  74% (9090/12269)   \r",
        "Resolving deltas:  75% (9222/12269)   \r",
        "Resolving deltas:  76% (9375/12269)   \r",
        "Resolving deltas:  77% (9477/12269)   \r",
        "Resolving deltas:  78% (9571/12269)   \r",
        "Resolving deltas:  79% (9707/12269)   \r",
        "Resolving deltas:  80% (9847/12269)   \r",
        "Resolving deltas:  81% (10036/12269)   \r",
        "Resolving deltas:  83% (10184/12269)   \r",
        "Resolving deltas:  84% (10356/12269)   \r",
        "Resolving deltas:  85% (10430/12269)   \r",
        "Resolving deltas:  86% (10583/12269)   \r",
        "Resolving deltas:  87% (10700/12269)   \r",
        "Resolving deltas:  88% (10813/12269)   \r",
        "Resolving deltas:  89% (10933/12269)   \r",
        "Resolving deltas:  90% (11096/12269)   \r",
        "Resolving deltas:  91% (11187/12269)   \r",
        "Resolving deltas:  92% (11300/12269)   \r",
        "Resolving deltas:  94% (11536/12269)   \r",
        "Resolving deltas:  95% (11658/12269)   \r"
       ]
      },
      {
       "output_type": "stream",
       "stream": "stdout",
       "text": [
        "Resolving deltas:  96% (11786/12269)   \r",
        "Resolving deltas:  97% (11905/12269)   \r",
        "Resolving deltas:  98% (12050/12269)   \r",
        "Resolving deltas:  99% (12148/12269)   \r",
        "Resolving deltas: 100% (12269/12269)   \r",
        "Resolving deltas: 100% (12269/12269), done.\r\n",
        "Checking connectivity... done.\r\n"
       ]
      },
      {
       "output_type": "stream",
       "stream": "stdout",
       "text": [
        "Submodule path 'halotools': checked out '467ba53ac2619c3dc911bbc9d504073190ae6e24'\r\n"
       ]
      }
     ],
     "prompt_number": 2
    },
    {
     "cell_type": "markdown",
     "metadata": {},
     "source": [
      "## Build Halotools"
     ]
    },
    {
     "cell_type": "code",
     "collapsed": false,
     "input": [
      "import shutil, os\n",
      "try:\n",
      "    shutil.rmtree(os.path.join('halotools', 'build'))\n",
      "except OSError:\n",
      "    pass"
     ],
     "language": "python",
     "metadata": {},
     "outputs": [],
     "prompt_number": 5
    },
    {
     "cell_type": "code",
     "collapsed": false,
     "input": [
      "cd halotools"
     ],
     "language": "python",
     "metadata": {},
     "outputs": [
      {
       "output_type": "stream",
       "stream": "stdout",
       "text": [
        "/Users/aphearin/work/random/1210/testing/decorated-hod-paper/halotools\n"
       ]
      }
     ],
     "prompt_number": 6
    },
    {
     "cell_type": "code",
     "collapsed": false,
     "input": [
      "!python setup.py build"
     ],
     "language": "python",
     "metadata": {},
     "outputs": [
      {
       "output_type": "stream",
       "stream": "stdout",
       "text": [
        "Initializing astropy_helpers submodule with: `git submodule update --init -- astropy_helpers`\r\n"
       ]
      },
      {
       "output_type": "stream",
       "stream": "stdout",
       "text": [
        "halotools/mock_observables/pair_counters/cpairs/setup_package.py:3: RuntimeWarning: Parent module 'halotools.mock_observables.pair_counters.cpairs' not found while handling absolute import\r\n",
        "  from distutils.extension import Extension\r\n",
        "halotools/mock_observables/pair_counters/cpairs/setup_package.py:4: RuntimeWarning: Parent module 'halotools.mock_observables.pair_counters.cpairs' not found while handling absolute import\r\n",
        "  import os\r\n",
        "halotools/mock_observables/pair_counters/cpairs/setup_package.py:5: RuntimeWarning: Parent module 'halotools.mock_observables.pair_counters.cpairs' not found while handling absolute import\r\n",
        "  import sys\r\n",
        "halotools/mock_observables/pair_counters/marked_cpairs/setup_package.py:1: RuntimeWarning: Parent module 'halotools.mock_observables.pair_counters.marked_cpairs' not found while handling absolute import\r\n",
        "  from distutils.extension import Extension\r\n",
        "halotools/mock_observables/pair_counters/marked_cpairs/setup_package.py:2: RuntimeWarning: Parent module 'halotools.mock_observables.pair_counters.marked_cpairs' not found while handling absolute import\r\n",
        "  import os\r\n",
        "halotools/mock_observables/pair_counters/marked_cpairs/setup_package.py:3: RuntimeWarning: Parent module 'halotools.mock_observables.pair_counters.marked_cpairs' not found while handling absolute import\r\n",
        "  import sys\r\n",
        "Freezing version number to halotools/version.py\r\n",
        "running build\r\n"
       ]
      },
      {
       "output_type": "stream",
       "stream": "stdout",
       "text": [
        "running build_py\r\n",
        "creating build\r\n",
        "creating build/lib.macosx-10.5-x86_64-2.7\r\n",
        "creating build/lib.macosx-10.5-x86_64-2.7/halotools\r\n",
        "copying halotools/__init__.py -> build/lib.macosx-10.5-x86_64-2.7/halotools\r\n",
        "copying halotools/_astropy_init.py -> build/lib.macosx-10.5-x86_64-2.7/halotools\r\n",
        "copying halotools/conftest.py -> build/lib.macosx-10.5-x86_64-2.7/halotools\r\n",
        "copying halotools/custom_exceptions.py -> build/lib.macosx-10.5-x86_64-2.7/halotools\r\n",
        "copying halotools/version.py -> build/lib.macosx-10.5-x86_64-2.7/halotools\r\n",
        "creating build/lib.macosx-10.5-x86_64-2.7/halotools/empirical_models\r\n",
        "copying halotools/empirical_models/__init__.py -> build/lib.macosx-10.5-x86_64-2.7/halotools/empirical_models\r\n",
        "copying halotools/empirical_models/model_defaults.py -> build/lib.macosx-10.5-x86_64-2.7/halotools/empirical_models\r\n",
        "copying halotools/empirical_models/model_helpers.py -> build/lib.macosx-10.5-x86_64-2.7/halotools/empirical_models\r\n",
        "creating build/lib.macosx-10.5-x86_64-2.7/halotools/extern\r\n",
        "copying halotools/extern/__init__.py -> build/lib.macosx-10.5-x86_64-2.7/halotools/extern\r\n",
        "creating build/lib.macosx-10.5-x86_64-2.7/halotools/mock_observables\r\n",
        "copying halotools/mock_observables/__init__.py -> build/lib.macosx-10.5-x86_64-2.7/halotools/mock_observables\r\n",
        "copying halotools/mock_observables/angular_tpcf.py -> build/lib.macosx-10.5-x86_64-2.7/halotools/mock_observables\r\n",
        "copying halotools/mock_observables/clustering_helpers.py -> build/lib.macosx-10.5-x86_64-2.7/halotools/mock_observables\r\n",
        "copying halotools/mock_observables/delta_sigma.py -> build/lib.macosx-10.5-x86_64-2.7/halotools/mock_observables\r\n",
        "copying halotools/mock_observables/groups.py -> build/lib.macosx-10.5-x86_64-2.7/halotools/mock_observables\r\n",
        "copying halotools/mock_observables/marked_tpcf.py -> build/lib.macosx-10.5-x86_64-2.7/halotools/mock_observables\r\n",
        "copying halotools/mock_observables/mock_survey.py -> build/lib.macosx-10.5-x86_64-2.7/halotools/mock_observables\r\n",
        "copying halotools/mock_observables/rp_pi_tpcf.py -> build/lib.macosx-10.5-x86_64-2.7/halotools/mock_observables\r\n",
        "copying halotools/mock_observables/s_mu_tpcf.py -> build/lib.macosx-10.5-x86_64-2.7/halotools/mock_observables\r\n",
        "copying halotools/mock_observables/tpcf.py -> build/lib.macosx-10.5-x86_64-2.7/halotools/mock_observables\r\n",
        "copying halotools/mock_observables/tpcf_jackknife.py -> build/lib.macosx-10.5-x86_64-2.7/halotools/mock_observables\r\n",
        "copying halotools/mock_observables/tpcf_one_two_halo_decomp.py -> build/lib.macosx-10.5-x86_64-2.7/halotools/mock_observables\r\n",
        "copying halotools/mock_observables/wp.py -> build/lib.macosx-10.5-x86_64-2.7/halotools/mock_observables\r\n",
        "creating build/lib.macosx-10.5-x86_64-2.7/halotools/sim_manager\r\n",
        "copying halotools/sim_manager/__init__.py -> build/lib.macosx-10.5-x86_64-2.7/halotools/sim_manager\r\n",
        "copying halotools/sim_manager/cache_config.py -> build/lib.macosx-10.5-x86_64-2.7/halotools/sim_manager\r\n",
        "copying halotools/sim_manager/catalog_manager.py -> build/lib.macosx-10.5-x86_64-2.7/halotools/sim_manager\r\n",
        "copying halotools/sim_manager/generate_random_sim.py -> build/lib.macosx-10.5-x86_64-2.7/halotools/sim_manager\r\n",
        "copying halotools/sim_manager/raw_halocat_column_info.py -> build/lib.macosx-10.5-x86_64-2.7/halotools/sim_manager\r\n",
        "copying halotools/sim_manager/read_nbody_ascii.py -> build/lib.macosx-10.5-x86_64-2.7/halotools/sim_manager\r\n",
        "copying halotools/sim_manager/sim_defaults.py -> build/lib.macosx-10.5-x86_64-2.7/halotools/sim_manager\r\n",
        "copying halotools/sim_manager/supported_sims.py -> build/lib.macosx-10.5-x86_64-2.7/halotools/sim_manager\r\n",
        "creating build/lib.macosx-10.5-x86_64-2.7/halotools/tests\r\n",
        "copying halotools/tests/__init__.py -> build/lib.macosx-10.5-x86_64-2.7/halotools/tests\r\n",
        "copying halotools/tests/setup_package.py -> build/lib.macosx-10.5-x86_64-2.7/halotools/tests\r\n",
        "creating build/lib.macosx-10.5-x86_64-2.7/halotools/utils\r\n",
        "copying halotools/utils/__init__.py -> build/lib.macosx-10.5-x86_64-2.7/halotools/utils\r\n",
        "copying halotools/utils/array_utils.py -> build/lib.macosx-10.5-x86_64-2.7/halotools/utils\r\n",
        "copying halotools/utils/autosummary_workaround.py -> build/lib.macosx-10.5-x86_64-2.7/halotools/utils\r\n",
        "copying halotools/utils/halocat_utils.py -> build/lib.macosx-10.5-x86_64-2.7/halotools/utils\r\n",
        "copying halotools/utils/io_utils.py -> build/lib.macosx-10.5-x86_64-2.7/halotools/utils\r\n",
        "copying halotools/utils/match.py -> build/lib.macosx-10.5-x86_64-2.7/halotools/utils\r\n",
        "copying halotools/utils/spherical_geometry.py -> build/lib.macosx-10.5-x86_64-2.7/halotools/utils\r\n",
        "copying halotools/utils/table_utils.py -> build/lib.macosx-10.5-x86_64-2.7/halotools/utils\r\n",
        "creating build/lib.macosx-10.5-x86_64-2.7/halotools/empirical_models/assembias_models\r\n",
        "copying halotools/empirical_models/assembias_models/__init__.py -> build/lib.macosx-10.5-x86_64-2.7/halotools/empirical_models/assembias_models\r\n",
        "copying halotools/empirical_models/assembias_models/heaviside_assembias.py -> build/lib.macosx-10.5-x86_64-2.7/halotools/empirical_models/assembias_models\r\n",
        "creating build/lib.macosx-10.5-x86_64-2.7/halotools/empirical_models/composite_models\r\n",
        "copying halotools/empirical_models/composite_models/__init__.py -> build/lib.macosx-10.5-x86_64-2.7/halotools/empirical_models/composite_models\r\n",
        "creating build/lib.macosx-10.5-x86_64-2.7/halotools/empirical_models/factories\r\n",
        "copying halotools/empirical_models/factories/__init__.py -> build/lib.macosx-10.5-x86_64-2.7/halotools/empirical_models/factories\r\n",
        "copying halotools/empirical_models/factories/hod_mock_factory.py -> build/lib.macosx-10.5-x86_64-2.7/halotools/empirical_models/factories\r\n",
        "copying halotools/empirical_models/factories/hod_model_factory.py -> build/lib.macosx-10.5-x86_64-2.7/halotools/empirical_models/factories\r\n",
        "copying halotools/empirical_models/factories/mock_factory_template.py -> build/lib.macosx-10.5-x86_64-2.7/halotools/empirical_models/factories\r\n",
        "copying halotools/empirical_models/factories/mock_helpers.py -> build/lib.macosx-10.5-x86_64-2.7/halotools/empirical_models/factories\r\n",
        "copying halotools/empirical_models/factories/model_factory_template.py -> build/lib.macosx-10.5-x86_64-2.7/halotools/empirical_models/factories\r\n",
        "copying halotools/empirical_models/factories/prebuilt_model_factory.py -> build/lib.macosx-10.5-x86_64-2.7/halotools/empirical_models/factories\r\n",
        "copying halotools/empirical_models/factories/subhalo_mock_factory.py -> build/lib.macosx-10.5-x86_64-2.7/halotools/empirical_models/factories\r\n",
        "copying halotools/empirical_models/factories/subhalo_model_factory.py -> build/lib.macosx-10.5-x86_64-2.7/halotools/empirical_models/factories\r\n",
        "creating build/lib.macosx-10.5-x86_64-2.7/halotools/empirical_models/occupation_models\r\n",
        "copying halotools/empirical_models/occupation_models/__init__.py -> build/lib.macosx-10.5-x86_64-2.7/halotools/empirical_models/occupation_models\r\n",
        "copying halotools/empirical_models/occupation_models/leauthaud11_components.py -> build/lib.macosx-10.5-x86_64-2.7/halotools/empirical_models/occupation_models\r\n",
        "copying halotools/empirical_models/occupation_models/occupation_model_template.py -> build/lib.macosx-10.5-x86_64-2.7/halotools/empirical_models/occupation_models\r\n",
        "copying halotools/empirical_models/occupation_models/tinker13_components.py -> build/lib.macosx-10.5-x86_64-2.7/halotools/empirical_models/occupation_models\r\n",
        "copying halotools/empirical_models/occupation_models/zheng07_components.py -> build/lib.macosx-10.5-x86_64-2.7/halotools/empirical_models/occupation_models\r\n",
        "creating build/lib.macosx-10.5-x86_64-2.7/halotools/empirical_models/phase_space_models\r\n",
        "copying halotools/empirical_models/phase_space_models/__init__.py -> build/lib.macosx-10.5-x86_64-2.7/halotools/empirical_models/phase_space_models\r\n",
        "copying halotools/empirical_models/phase_space_models/monte_carlo_helpers.py -> build/lib.macosx-10.5-x86_64-2.7/halotools/empirical_models/phase_space_models\r\n",
        "copying halotools/empirical_models/phase_space_models/nfw_phase_space.py -> build/lib.macosx-10.5-x86_64-2.7/halotools/empirical_models/phase_space_models\r\n",
        "copying halotools/empirical_models/phase_space_models/trivial_phase_space.py -> build/lib.macosx-10.5-x86_64-2.7/halotools/empirical_models/phase_space_models\r\n",
        "creating build/lib.macosx-10.5-x86_64-2.7/halotools/empirical_models/sfr_models\r\n",
        "copying halotools/empirical_models/sfr_models/__init__.py -> build/lib.macosx-10.5-x86_64-2.7/halotools/empirical_models/sfr_models\r\n",
        "copying halotools/empirical_models/sfr_models/sfr_components.py -> build/lib.macosx-10.5-x86_64-2.7/halotools/empirical_models/sfr_models\r\n",
        "creating build/lib.macosx-10.5-x86_64-2.7/halotools/empirical_models/smhm_models\r\n",
        "copying halotools/empirical_models/smhm_models/__init__.py -> build/lib.macosx-10.5-x86_64-2.7/halotools/empirical_models/smhm_models\r\n",
        "copying halotools/empirical_models/smhm_models/behroozi10.py -> build/lib.macosx-10.5-x86_64-2.7/halotools/empirical_models/smhm_models\r\n",
        "copying halotools/empirical_models/smhm_models/moster13.py -> build/lib.macosx-10.5-x86_64-2.7/halotools/empirical_models/smhm_models\r\n",
        "copying halotools/empirical_models/smhm_models/scatter_models.py -> build/lib.macosx-10.5-x86_64-2.7/halotools/empirical_models/smhm_models\r\n",
        "copying halotools/empirical_models/smhm_models/smhm_helpers.py -> build/lib.macosx-10.5-x86_64-2.7/halotools/empirical_models/smhm_models\r\n",
        "copying halotools/empirical_models/smhm_models/smhm_model_template.py -> build/lib.macosx-10.5-x86_64-2.7/halotools/empirical_models/smhm_models\r\n",
        "creating build/lib.macosx-10.5-x86_64-2.7/halotools/empirical_models/tests\r\n",
        "copying halotools/empirical_models/tests/__init__.py -> build/lib.macosx-10.5-x86_64-2.7/halotools/empirical_models/tests\r\n",
        "copying halotools/empirical_models/tests/test_model_helpers.py -> build/lib.macosx-10.5-x86_64-2.7/halotools/empirical_models/tests\r\n",
        "creating build/lib.macosx-10.5-x86_64-2.7/halotools/empirical_models/assembias_models/tests\r\n",
        "copying halotools/empirical_models/assembias_models/tests/__init__.py -> build/lib.macosx-10.5-x86_64-2.7/halotools/empirical_models/assembias_models/tests\r\n",
        "copying halotools/empirical_models/assembias_models/tests/test_assembias.py -> build/lib.macosx-10.5-x86_64-2.7/halotools/empirical_models/assembias_models/tests\r\n",
        "creating build/lib.macosx-10.5-x86_64-2.7/halotools/empirical_models/composite_models/hod_models\r\n",
        "copying halotools/empirical_models/composite_models/hod_models/__init__.py -> build/lib.macosx-10.5-x86_64-2.7/halotools/empirical_models/composite_models/hod_models\r\n",
        "copying halotools/empirical_models/composite_models/hod_models/hearin15.py -> build/lib.macosx-10.5-x86_64-2.7/halotools/empirical_models/composite_models/hod_models\r\n",
        "copying halotools/empirical_models/composite_models/hod_models/leauthaud11.py -> build/lib.macosx-10.5-x86_64-2.7/halotools/empirical_models/composite_models/hod_models\r\n",
        "copying halotools/empirical_models/composite_models/hod_models/tinker13.py -> build/lib.macosx-10.5-x86_64-2.7/halotools/empirical_models/composite_models/hod_models\r\n",
        "copying halotools/empirical_models/composite_models/hod_models/zheng07.py -> build/lib.macosx-10.5-x86_64-2.7/halotools/empirical_models/composite_models/hod_models\r\n",
        "creating build/lib.macosx-10.5-x86_64-2.7/halotools/empirical_models/composite_models/sfr_models\r\n",
        "copying halotools/empirical_models/composite_models/sfr_models/__init__.py -> build/lib.macosx-10.5-x86_64-2.7/halotools/empirical_models/composite_models/sfr_models\r\n",
        "copying halotools/empirical_models/composite_models/sfr_models/smhm_binary_sfr.py -> build/lib.macosx-10.5-x86_64-2.7/halotools/empirical_models/composite_models/sfr_models\r\n",
        "creating build/lib.macosx-10.5-x86_64-2.7/halotools/empirical_models/composite_models/smhm_models\r\n",
        "copying halotools/empirical_models/composite_models/smhm_models/__init__.py -> build/lib.macosx-10.5-x86_64-2.7/halotools/empirical_models/composite_models/smhm_models\r\n",
        "copying halotools/empirical_models/composite_models/smhm_models/behroozi10.py -> build/lib.macosx-10.5-x86_64-2.7/halotools/empirical_models/composite_models/smhm_models\r\n",
        "creating build/lib.macosx-10.5-x86_64-2.7/halotools/empirical_models/composite_models/tests\r\n",
        "copying halotools/empirical_models/composite_models/tests/__init__.py -> build/lib.macosx-10.5-x86_64-2.7/halotools/empirical_models/composite_models/tests\r\n",
        "copying halotools/empirical_models/composite_models/tests/test_preloaded_models.py -> build/lib.macosx-10.5-x86_64-2.7/halotools/empirical_models/composite_models/tests\r\n",
        "creating build/lib.macosx-10.5-x86_64-2.7/halotools/empirical_models/factories/tests\r\n",
        "copying halotools/empirical_models/factories/tests/__init__.py -> build/lib.macosx-10.5-x86_64-2.7/halotools/empirical_models/factories/tests\r\n",
        "copying halotools/empirical_models/factories/tests/test_hod_factory.py -> build/lib.macosx-10.5-x86_64-2.7/halotools/empirical_models/factories/tests\r\n",
        "copying halotools/empirical_models/factories/tests/test_mock_factories.py -> build/lib.macosx-10.5-x86_64-2.7/halotools/empirical_models/factories/tests\r\n",
        "copying halotools/empirical_models/factories/tests/test_prebuilt_subhalo_model_factory.py -> build/lib.macosx-10.5-x86_64-2.7/halotools/empirical_models/factories/tests\r\n",
        "copying halotools/empirical_models/factories/tests/test_subhalo_model_factory.py -> build/lib.macosx-10.5-x86_64-2.7/halotools/empirical_models/factories/tests\r\n",
        "creating build/lib.macosx-10.5-x86_64-2.7/halotools/empirical_models/occupation_models/tests\r\n",
        "copying halotools/empirical_models/occupation_models/tests/__init__.py -> build/lib.macosx-10.5-x86_64-2.7/halotools/empirical_models/occupation_models/tests\r\n",
        "copying halotools/empirical_models/occupation_models/tests/test_hod_components.py -> build/lib.macosx-10.5-x86_64-2.7/halotools/empirical_models/occupation_models/tests\r\n",
        "copying halotools/empirical_models/occupation_models/tests/test_leauthaud11_hod.py -> build/lib.macosx-10.5-x86_64-2.7/halotools/empirical_models/occupation_models/tests\r\n",
        "creating build/lib.macosx-10.5-x86_64-2.7/halotools/empirical_models/phase_space_models/profile_models\r\n",
        "copying halotools/empirical_models/phase_space_models/profile_models/__init__.py -> build/lib.macosx-10.5-x86_64-2.7/halotools/empirical_models/phase_space_models/profile_models\r\n",
        "copying halotools/empirical_models/phase_space_models/profile_models/conc_mass_models.py -> build/lib.macosx-10.5-x86_64-2.7/halotools/empirical_models/phase_space_models/profile_models\r\n",
        "copying halotools/empirical_models/phase_space_models/profile_models/nfw_profile.py -> build/lib.macosx-10.5-x86_64-2.7/halotools/empirical_models/phase_space_models/profile_models\r\n",
        "copying halotools/empirical_models/phase_space_models/profile_models/profile_helpers.py -> build/lib.macosx-10.5-x86_64-2.7/halotools/empirical_models/phase_space_models/profile_models\r\n",
        "copying halotools/empirical_models/phase_space_models/profile_models/profile_model_template.py -> build/lib.macosx-10.5-x86_64-2.7/halotools/empirical_models/phase_space_models/profile_models\r\n",
        "copying halotools/empirical_models/phase_space_models/profile_models/trivial_profile.py -> build/lib.macosx-10.5-x86_64-2.7/halotools/empirical_models/phase_space_models/profile_models\r\n",
        "creating build/lib.macosx-10.5-x86_64-2.7/halotools/empirical_models/phase_space_models/tests\r\n",
        "copying halotools/empirical_models/phase_space_models/tests/__init__.py -> build/lib.macosx-10.5-x86_64-2.7/halotools/empirical_models/phase_space_models/tests\r\n",
        "copying halotools/empirical_models/phase_space_models/tests/test_phase_space.py -> build/lib.macosx-10.5-x86_64-2.7/halotools/empirical_models/phase_space_models/tests\r\n",
        "creating build/lib.macosx-10.5-x86_64-2.7/halotools/empirical_models/phase_space_models/velocity_models\r\n",
        "copying halotools/empirical_models/phase_space_models/velocity_models/__init__.py -> build/lib.macosx-10.5-x86_64-2.7/halotools/empirical_models/phase_space_models/velocity_models\r\n",
        "copying halotools/empirical_models/phase_space_models/velocity_models/isotropic_jeans_model_template.py -> build/lib.macosx-10.5-x86_64-2.7/halotools/empirical_models/phase_space_models/velocity_models\r\n",
        "copying halotools/empirical_models/phase_space_models/velocity_models/nfw_isotropic_jeans.py -> build/lib.macosx-10.5-x86_64-2.7/halotools/empirical_models/phase_space_models/velocity_models\r\n",
        "creating build/lib.macosx-10.5-x86_64-2.7/halotools/empirical_models/phase_space_models/profile_models/tests\r\n",
        "copying halotools/empirical_models/phase_space_models/profile_models/tests/__init__.py -> build/lib.macosx-10.5-x86_64-2.7/halotools/empirical_models/phase_space_models/profile_models/tests\r\n",
        "copying halotools/empirical_models/phase_space_models/profile_models/tests/test_analytic_profile_subclasses.py -> build/lib.macosx-10.5-x86_64-2.7/halotools/empirical_models/phase_space_models/profile_models/tests\r\n",
        "copying halotools/empirical_models/phase_space_models/profile_models/tests/test_conc_mass.py -> build/lib.macosx-10.5-x86_64-2.7/halotools/empirical_models/phase_space_models/profile_models/tests\r\n",
        "copying halotools/empirical_models/phase_space_models/profile_models/tests/test_halo_catalog_nfw_consistency.py -> build/lib.macosx-10.5-x86_64-2.7/halotools/empirical_models/phase_space_models/profile_models/tests\r\n"
       ]
      },
      {
       "output_type": "stream",
       "stream": "stdout",
       "text": [
        "copying halotools/empirical_models/phase_space_models/profile_models/tests/test_nfw_profile.py -> build/lib.macosx-10.5-x86_64-2.7/halotools/empirical_models/phase_space_models/profile_models/tests\r\n",
        "copying halotools/empirical_models/phase_space_models/profile_models/tests/test_profile_helpers.py -> build/lib.macosx-10.5-x86_64-2.7/halotools/empirical_models/phase_space_models/profile_models/tests\r\n",
        "copying halotools/empirical_models/phase_space_models/profile_models/tests/test_trivial_profile.py -> build/lib.macosx-10.5-x86_64-2.7/halotools/empirical_models/phase_space_models/profile_models/tests\r\n",
        "creating build/lib.macosx-10.5-x86_64-2.7/halotools/empirical_models/phase_space_models/velocity_models/tests\r\n",
        "copying halotools/empirical_models/phase_space_models/velocity_models/tests/__init__.py -> build/lib.macosx-10.5-x86_64-2.7/halotools/empirical_models/phase_space_models/velocity_models/tests\r\n",
        "copying halotools/empirical_models/phase_space_models/velocity_models/tests/test_nfw_isotropic_jeans.py -> build/lib.macosx-10.5-x86_64-2.7/halotools/empirical_models/phase_space_models/velocity_models/tests\r\n",
        "creating build/lib.macosx-10.5-x86_64-2.7/halotools/empirical_models/sfr_models/tests\r\n",
        "copying halotools/empirical_models/sfr_models/tests/__init__.py -> build/lib.macosx-10.5-x86_64-2.7/halotools/empirical_models/sfr_models/tests\r\n",
        "copying halotools/empirical_models/sfr_models/tests/test_sfr_components.py -> build/lib.macosx-10.5-x86_64-2.7/halotools/empirical_models/sfr_models/tests\r\n",
        "creating build/lib.macosx-10.5-x86_64-2.7/halotools/empirical_models/smhm_models/tests\r\n",
        "copying halotools/empirical_models/smhm_models/tests/__init__.py -> build/lib.macosx-10.5-x86_64-2.7/halotools/empirical_models/smhm_models/tests\r\n",
        "copying halotools/empirical_models/smhm_models/tests/test_redshift_defensiveness.py -> build/lib.macosx-10.5-x86_64-2.7/halotools/empirical_models/smhm_models/tests\r\n",
        "copying halotools/empirical_models/smhm_models/tests/test_smhm_components.py -> build/lib.macosx-10.5-x86_64-2.7/halotools/empirical_models/smhm_models/tests\r\n",
        "creating build/lib.macosx-10.5-x86_64-2.7/halotools/mock_observables/pair_counters\r\n",
        "copying halotools/mock_observables/pair_counters/__init__.py -> build/lib.macosx-10.5-x86_64-2.7/halotools/mock_observables/pair_counters\r\n",
        "copying halotools/mock_observables/pair_counters/double_tree.py -> build/lib.macosx-10.5-x86_64-2.7/halotools/mock_observables/pair_counters\r\n",
        "copying halotools/mock_observables/pair_counters/double_tree_helpers.py -> build/lib.macosx-10.5-x86_64-2.7/halotools/mock_observables/pair_counters\r\n",
        "copying halotools/mock_observables/pair_counters/double_tree_pair_matrix.py -> build/lib.macosx-10.5-x86_64-2.7/halotools/mock_observables/pair_counters\r\n",
        "copying halotools/mock_observables/pair_counters/double_tree_pairs.py -> build/lib.macosx-10.5-x86_64-2.7/halotools/mock_observables/pair_counters\r\n",
        "copying halotools/mock_observables/pair_counters/marked_double_tree_helpers.py -> build/lib.macosx-10.5-x86_64-2.7/halotools/mock_observables/pair_counters\r\n",
        "copying halotools/mock_observables/pair_counters/marked_double_tree_pairs.py -> build/lib.macosx-10.5-x86_64-2.7/halotools/mock_observables/pair_counters\r\n",
        "copying halotools/mock_observables/pair_counters/pairs.py -> build/lib.macosx-10.5-x86_64-2.7/halotools/mock_observables/pair_counters\r\n",
        "creating build/lib.macosx-10.5-x86_64-2.7/halotools/mock_observables/test_clustering\r\n",
        "copying halotools/mock_observables/test_clustering/__init__.py -> build/lib.macosx-10.5-x86_64-2.7/halotools/mock_observables/test_clustering\r\n",
        "copying halotools/mock_observables/test_clustering/test_delta_sigma.py -> build/lib.macosx-10.5-x86_64-2.7/halotools/mock_observables/test_clustering\r\n",
        "copying halotools/mock_observables/test_clustering/test_marked_tpcf.py -> build/lib.macosx-10.5-x86_64-2.7/halotools/mock_observables/test_clustering\r\n",
        "copying halotools/mock_observables/test_clustering/test_rp_pi_tpcf.py -> build/lib.macosx-10.5-x86_64-2.7/halotools/mock_observables/test_clustering\r\n",
        "copying halotools/mock_observables/test_clustering/test_s_mu_tpcf.py -> build/lib.macosx-10.5-x86_64-2.7/halotools/mock_observables/test_clustering\r\n",
        "copying halotools/mock_observables/test_clustering/test_tpcf.py -> build/lib.macosx-10.5-x86_64-2.7/halotools/mock_observables/test_clustering\r\n",
        "copying halotools/mock_observables/test_clustering/test_tpcf_jackknife.py -> build/lib.macosx-10.5-x86_64-2.7/halotools/mock_observables/test_clustering\r\n",
        "copying halotools/mock_observables/test_clustering/test_tpcf_one_two_halo.py -> build/lib.macosx-10.5-x86_64-2.7/halotools/mock_observables/test_clustering\r\n",
        "copying halotools/mock_observables/test_clustering/test_wp.py -> build/lib.macosx-10.5-x86_64-2.7/halotools/mock_observables/test_clustering\r\n",
        "creating build/lib.macosx-10.5-x86_64-2.7/halotools/mock_observables/test_groups\r\n",
        "copying halotools/mock_observables/test_groups/__init__.py -> build/lib.macosx-10.5-x86_64-2.7/halotools/mock_observables/test_groups\r\n",
        "copying halotools/mock_observables/test_groups/test_fof_groups.py -> build/lib.macosx-10.5-x86_64-2.7/halotools/mock_observables/test_groups\r\n",
        "creating build/lib.macosx-10.5-x86_64-2.7/halotools/mock_observables/test_mock_survey\r\n",
        "copying halotools/mock_observables/test_mock_survey/__init__.py -> build/lib.macosx-10.5-x86_64-2.7/halotools/mock_observables/test_mock_survey\r\n",
        "copying halotools/mock_observables/test_mock_survey/test_mock_survey.py -> build/lib.macosx-10.5-x86_64-2.7/halotools/mock_observables/test_mock_survey\r\n",
        "creating build/lib.macosx-10.5-x86_64-2.7/halotools/mock_observables/pair_counters/cpairs\r\n",
        "copying halotools/mock_observables/pair_counters/cpairs/__init__.py -> build/lib.macosx-10.5-x86_64-2.7/halotools/mock_observables/pair_counters/cpairs\r\n",
        "copying halotools/mock_observables/pair_counters/cpairs/setup_package.py -> build/lib.macosx-10.5-x86_64-2.7/halotools/mock_observables/pair_counters/cpairs\r\n",
        "creating build/lib.macosx-10.5-x86_64-2.7/halotools/mock_observables/pair_counters/marked_cpairs\r\n",
        "copying halotools/mock_observables/pair_counters/marked_cpairs/__init__.py -> build/lib.macosx-10.5-x86_64-2.7/halotools/mock_observables/pair_counters/marked_cpairs\r\n",
        "copying halotools/mock_observables/pair_counters/marked_cpairs/setup_package.py -> build/lib.macosx-10.5-x86_64-2.7/halotools/mock_observables/pair_counters/marked_cpairs\r\n",
        "creating build/lib.macosx-10.5-x86_64-2.7/halotools/mock_observables/pair_counters/test_pair_counters\r\n",
        "copying halotools/mock_observables/pair_counters/test_pair_counters/__init__.py -> build/lib.macosx-10.5-x86_64-2.7/halotools/mock_observables/pair_counters/test_pair_counters\r\n",
        "copying halotools/mock_observables/pair_counters/test_pair_counters/test_double_tree_pairs.py -> build/lib.macosx-10.5-x86_64-2.7/halotools/mock_observables/pair_counters/test_pair_counters\r\n",
        "copying halotools/mock_observables/pair_counters/test_pair_counters/test_marked_double_tree_pairs.py -> build/lib.macosx-10.5-x86_64-2.7/halotools/mock_observables/pair_counters/test_pair_counters\r\n",
        "creating build/lib.macosx-10.5-x86_64-2.7/halotools/mock_observables/pair_counters/test_pair_matrices\r\n",
        "copying halotools/mock_observables/pair_counters/test_pair_matrices/__init__.py -> build/lib.macosx-10.5-x86_64-2.7/halotools/mock_observables/pair_counters/test_pair_matrices\r\n",
        "copying halotools/mock_observables/pair_counters/test_pair_matrices/test_pair_matrix.py -> build/lib.macosx-10.5-x86_64-2.7/halotools/mock_observables/pair_counters/test_pair_matrices\r\n",
        "creating build/lib.macosx-10.5-x86_64-2.7/halotools/mock_observables/pair_counters/test_trees\r\n",
        "copying halotools/mock_observables/pair_counters/test_trees/__init__.py -> build/lib.macosx-10.5-x86_64-2.7/halotools/mock_observables/pair_counters/test_trees\r\n",
        "copying halotools/mock_observables/pair_counters/test_trees/test_double_tree.py -> build/lib.macosx-10.5-x86_64-2.7/halotools/mock_observables/pair_counters/test_trees\r\n",
        "copying halotools/mock_observables/pair_counters/test_trees/test_single_tree.py -> build/lib.macosx-10.5-x86_64-2.7/halotools/mock_observables/pair_counters/test_trees\r\n",
        "creating build/lib.macosx-10.5-x86_64-2.7/halotools/sim_manager/tests\r\n",
        "copying halotools/sim_manager/tests/__init__.py -> build/lib.macosx-10.5-x86_64-2.7/halotools/sim_manager/tests\r\n",
        "copying halotools/sim_manager/tests/test_cache_config.py -> build/lib.macosx-10.5-x86_64-2.7/halotools/sim_manager/tests\r\n",
        "copying halotools/sim_manager/tests/test_catalog_manager.py -> build/lib.macosx-10.5-x86_64-2.7/halotools/sim_manager/tests\r\n",
        "copying halotools/sim_manager/tests/test_supported_sims.py -> build/lib.macosx-10.5-x86_64-2.7/halotools/sim_manager/tests\r\n",
        "creating build/lib.macosx-10.5-x86_64-2.7/halotools/utils/tests\r\n",
        "copying halotools/utils/tests/__init__.py -> build/lib.macosx-10.5-x86_64-2.7/halotools/utils/tests\r\n",
        "copying halotools/utils/tests/test_array_utils.py -> build/lib.macosx-10.5-x86_64-2.7/halotools/utils/tests\r\n",
        "copying halotools/utils/tests/test_table_utils.py -> build/lib.macosx-10.5-x86_64-2.7/halotools/utils/tests\r\n",
        "creating build/lib.macosx-10.5-x86_64-2.7/halotools/data\r\n",
        "copying halotools/data/README.rst -> build/lib.macosx-10.5-x86_64-2.7/halotools/data\r\n",
        "creating build/lib.macosx-10.5-x86_64-2.7/halotools/extern/cf_yao\r\n",
        "creating build/lib.macosx-10.5-x86_64-2.7/halotools/extern/cf_yao/fast3tree\r\n",
        "copying halotools/extern/cf_yao/fast3tree/fast3tree.c -> build/lib.macosx-10.5-x86_64-2.7/halotools/extern/cf_yao/fast3tree\r\n",
        "copying halotools/extern/cf_yao/fast3tree/fast3tree_3d.c -> build/lib.macosx-10.5-x86_64-2.7/halotools/extern/cf_yao/fast3tree\r\n",
        "copying halotools/tests/coveragerc -> build/lib.macosx-10.5-x86_64-2.7/halotools/tests\r\n",
        "running build_ext\r\n"
       ]
      },
      {
       "output_type": "stream",
       "stream": "stdout",
       "text": [
        "building 'halotools._compiler' extension\r\n",
        "creating build/temp.macosx-10.5-x86_64-2.7\r\n",
        "creating build/temp.macosx-10.5-x86_64-2.7/halotools\r\n",
        "gcc -fno-strict-aliasing -I/Users/aphearin/anaconda/include -arch x86_64 -DNDEBUG -g -fwrapv -O3 -Wall -Wstrict-prototypes -I/Users/aphearin/anaconda/include/python2.7 -c halotools/_compiler.c -o build/temp.macosx-10.5-x86_64-2.7/halotools/_compiler.o\r\n"
       ]
      },
      {
       "output_type": "stream",
       "stream": "stdout",
       "text": [
        "gcc -bundle -undefined dynamic_lookup -L/Users/aphearin/anaconda/lib -arch x86_64 -arch x86_64 build/temp.macosx-10.5-x86_64-2.7/halotools/_compiler.o -L/Users/aphearin/anaconda/lib -o build/lib.macosx-10.5-x86_64-2.7/halotools/_compiler.so\r\n"
       ]
      },
      {
       "output_type": "stream",
       "stream": "stdout",
       "text": [
        "cythoning halotools/mock_observables/pair_counters/cpairs/cpairs.pyx to halotools/mock_observables/pair_counters/cpairs/cpairs.cpp\r\n"
       ]
      },
      {
       "output_type": "stream",
       "stream": "stdout",
       "text": [
        "building 'halotools.mock_observables.pair_counters.cpairs.cpairs' extension\r\n",
        "creating build/temp.macosx-10.5-x86_64-2.7/halotools/mock_observables\r\n",
        "creating build/temp.macosx-10.5-x86_64-2.7/halotools/mock_observables/pair_counters\r\n",
        "creating build/temp.macosx-10.5-x86_64-2.7/halotools/mock_observables/pair_counters/cpairs\r\n",
        "gcc -fno-strict-aliasing -I/Users/aphearin/anaconda/include -arch x86_64 -DNDEBUG -g -fwrapv -O3 -Wall -Wstrict-prototypes -I/Users/aphearin/anaconda/lib/python2.7/site-packages/numpy/core/include -I/Users/aphearin/anaconda/include/python2.7 -c halotools/mock_observables/pair_counters/cpairs/cpairs.cpp -o build/temp.macosx-10.5-x86_64-2.7/halotools/mock_observables/pair_counters/cpairs/cpairs.o\r\n"
       ]
      },
      {
       "output_type": "stream",
       "stream": "stdout",
       "text": [
        "In file included from halotools/mock_observables/pair_counters/cpairs/cpairs.cpp:251:\r\n",
        "In file included from /Users/aphearin/anaconda/lib/python2.7/site-packages/numpy/core/include/numpy/arrayobject.h:4:\r\n",
        "In file included from /Users/aphearin/anaconda/lib/python2.7/site-packages/numpy/core/include/numpy/ndarrayobject.h:17:\r\n",
        "In file included from /Users/aphearin/anaconda/lib/python2.7/site-packages/numpy/core/include/numpy/ndarraytypes.h:1804:\r\n",
        "\u001b[1m/Users/aphearin/anaconda/lib/python2.7/site-packages/numpy/core/include/numpy/npy_1_7_deprecated_api.h:15:2: \u001b[0m\u001b[0;1;35mwarning: \u001b[0m\u001b[1m\r\n",
        "      \"Using deprecated NumPy API, disable it by \"          \"#defining NPY_NO_DEPRECATED_API NPY_1_7_API_VERSION\"\r\n",
        "      [-W#warnings]\u001b[0m\r\n",
        "#warning \"Using deprecated NumPy API, disable it by \" \\\r\n",
        "\u001b[0;1;32m ^\r\n",
        "\u001b[0m"
       ]
      },
      {
       "output_type": "stream",
       "stream": "stdout",
       "text": [
        "In file included from halotools/mock_observables/pair_counters/cpairs/cpairs.cpp:251:\r\n",
        "In file included from /Users/aphearin/anaconda/lib/python2.7/site-packages/numpy/core/include/numpy/arrayobject.h:4:\r\n",
        "In file included from /Users/aphearin/anaconda/lib/python2.7/site-packages/numpy/core/include/numpy/ndarrayobject.h:26:\r\n",
        "\u001b[1m/Users/aphearin/anaconda/lib/python2.7/site-packages/numpy/core/include/numpy/__multiarray_api.h:1629:1: \u001b[0m\u001b[0;1;35mwarning: \u001b[0m\u001b[1m\r\n",
        "      unused function '_import_array' [-Wunused-function]\u001b[0m\r\n",
        "_import_array(void)\r\n",
        "\u001b[0;1;32m^\r\n",
        "\u001b[0mIn file included from halotools/mock_observables/pair_counters/cpairs/cpairs.cpp:252:\r\n",
        "In file included from /Users/aphearin/anaconda/lib/python2.7/site-packages/numpy/core/include/numpy/ufuncobject.h:317:\r\n",
        "\u001b[1m/Users/aphearin/anaconda/lib/python2.7/site-packages/numpy/core/include/numpy/__ufunc_api.h:241:1: \u001b[0m\u001b[0;1;35mwarning: \u001b[0m\u001b[1munused\r\n",
        "      function '_import_umath' [-Wunused-function]\u001b[0m\r\n",
        "_import_umath(void)\r\n",
        "\u001b[0;1;32m^\r\n",
        "\u001b[0m\u001b[1mhalotools/mock_observables/pair_counters/cpairs/cpairs.cpp:15354:28: \u001b[0m\u001b[0;1;35mwarning: \u001b[0m\u001b[1munused function '__Pyx_PyObject_AsString'\r\n",
        "      [-Wunused-function]\u001b[0m\r\n",
        "static CYTHON_INLINE char* __Pyx_PyObject_AsString(PyObject* o) {\r\n",
        "\u001b[0;1;32m                           ^\r\n",
        "\u001b[0m\u001b[1mhalotools/mock_observables/pair_counters/cpairs/cpairs.cpp:15351:32: \u001b[0m\u001b[0;1;35mwarning: \u001b[0m\u001b[1munused function\r\n",
        "      '__Pyx_PyUnicode_FromString' [-Wunused-function]\u001b[0m\r\n",
        "static CYTHON_INLINE PyObject* __Pyx_PyUnicode_FromString(const char* c_str) {\r\n",
        "\u001b[0;1;32m                               ^\r\n",
        "\u001b[0m\u001b[1mhalotools/mock_observables/pair_counters/cpairs/cpairs.cpp:340:29: \u001b[0m\u001b[0;1;35mwarning: \u001b[0m\u001b[1munused function '__Pyx_Py_UNICODE_strlen'\r\n",
        "      [-Wunused-function]\u001b[0m\r\n",
        "static CYTHON_INLINE size_t __Pyx_Py_UNICODE_strlen(const Py_UNICODE *u)\r\n",
        "\u001b[0;1;32m                            ^\r\n",
        "\u001b[0m\u001b[1mhalotools/mock_observables/pair_counters/cpairs/cpairs.cpp:15466:33: \u001b[0m\u001b[0;1;35mwarning: \u001b[0m\u001b[1munused function '__Pyx_PyIndex_AsSsize_t'\r\n",
        "      [-Wunused-function]\u001b[0m\r\n",
        "static CYTHON_INLINE Py_ssize_t __Pyx_PyIndex_AsSsize_t(PyObject* b) {\r\n",
        "\u001b[0;1;32m                                ^\r\n",
        "\u001b[0m\u001b[1mhalotools/mock_observables/pair_counters/cpairs/cpairs.cpp:15528:33: \u001b[0m\u001b[0;1;35mwarning: \u001b[0m\u001b[1munused function '__Pyx_PyInt_FromSize_t'\r\n",
        "      [-Wunused-function]\u001b[0m\r\n",
        "static CYTHON_INLINE PyObject * __Pyx_PyInt_FromSize_t(size_t ival) {\r\n",
        "\u001b[0;1;32m                                ^\r\n",
        "\u001b[0m\u001b[1mhalotools/mock_observables/pair_counters/cpairs/cpairs.cpp:14698:48: \u001b[0m\u001b[0;1;35mwarning: \u001b[0m\u001b[1munused function\r\n",
        "      '__pyx_t_float_complex_from_parts' [-Wunused-function]\u001b[0m\r\n",
        "    static CYTHON_INLINE __pyx_t_float_complex __pyx_t_float_complex_from_parts(float x, float y) {\r\n",
        "\u001b[0;1;32m                                               ^\r\n",
        "\u001b[0m\u001b[1mhalotools/mock_observables/pair_counters/cpairs/cpairs.cpp:14818:49: \u001b[0m\u001b[0;1;35mwarning: \u001b[0m\u001b[1munused function\r\n",
        "      '__pyx_t_double_complex_from_parts' [-Wunused-function]\u001b[0m\r\n",
        "    static CYTHON_INLINE __pyx_t_double_complex __pyx_t_double_complex_from_parts(double x, double y) {\r\n",
        "\u001b[0;1;32m                                                ^\r\n",
        "\u001b[0m\u001b[1mhalotools/mock_observables/pair_counters/cpairs/cpairs.cpp:14962:32: \u001b[0m\u001b[0;1;35mwarning: \u001b[0m\u001b[1munused function '__Pyx_PyInt_From_long'\r\n",
        "      [-Wunused-function]\u001b[0m\r\n",
        "static CYTHON_INLINE PyObject* __Pyx_PyInt_From_long(long value) {\r\n",
        "\u001b[0;1;32m                               ^\r\n",
        "\u001b[0m\u001b[1mhalotools/mock_observables/pair_counters/cpairs/cpairs.cpp:14988:27: \u001b[0m\u001b[0;1;35mwarning: \u001b[0m\u001b[1mfunction '__Pyx_PyInt_As_long' is not\r\n",
        "      needed and will not be emitted [-Wunneeded-internal-declaration]\u001b[0m\r\n",
        "static CYTHON_INLINE long __Pyx_PyInt_As_long(PyObject *x) {\r\n",
        "\u001b[0;1;32m                          ^\r\n",
        "\u001b[0m\u001b[1mhalotools/mock_observables/pair_counters/cpairs/cpairs.cpp:11041:32: \u001b[0m\u001b[0;1;35mwarning: \u001b[0m\u001b[1munused function\r\n",
        "      '__pyx_f_5numpy_PyArray_MultiIterNew1' [-Wunused-function]\u001b[0m\r\n",
        "static CYTHON_INLINE PyObject *__pyx_f_5numpy_PyArray_MultiIterNew1(PyObject *__pyx_v_a) {\r\n",
        "\u001b[0;1;32m                               ^\r\n",
        "\u001b[0m\u001b[1mhalotools/mock_observables/pair_counters/cpairs/cpairs.cpp:11091:32: \u001b[0m\u001b[0;1;35mwarning: \u001b[0m\u001b[1munused function\r\n",
        "      '__pyx_f_5numpy_PyArray_MultiIterNew2' [-Wunused-function]\u001b[0m\r\n",
        "static CYTHON_INLINE PyObject *__pyx_f_5numpy_PyArray_MultiIterNew2(PyObject *__pyx_v_a, PyObject *__pyx_v_b) {\r\n",
        "\u001b[0;1;32m                               ^\r\n",
        "\u001b[0m\u001b[1mhalotools/mock_observables/pair_counters/cpairs/cpairs.cpp:11141:32: \u001b[0m\u001b[0;1;35mwarning: \u001b[0m\u001b[1munused function\r\n",
        "      '__pyx_f_5numpy_PyArray_MultiIterNew3' [-Wunused-function]\u001b[0m\r\n",
        "static CYTHON_INLINE PyObject *__pyx_f_5numpy_PyArray_MultiIterNew3(PyObject *__pyx_v_a, PyObject *__pyx_v_b, Py...\r\n",
        "\u001b[0;1;32m                               ^\r\n",
        "\u001b[0m\u001b[1mhalotools/mock_observables/pair_counters/cpairs/cpairs.cpp:11191:32: \u001b[0m\u001b[0;1;35mwarning: \u001b[0m\u001b[1munused function\r\n",
        "      '__pyx_f_5numpy_PyArray_MultiIterNew4' [-Wunused-function]\u001b[0m\r\n",
        "static CYTHON_INLINE PyObject *__pyx_f_5numpy_PyArray_MultiIterNew4(PyObject *__pyx_v_a, PyObject *__pyx_v_b, Py...\r\n",
        "\u001b[0;1;32m                               ^\r\n",
        "\u001b[0m\u001b[1mhalotools/mock_observables/pair_counters/cpairs/cpairs.cpp:11241:32: \u001b[0m\u001b[0;1;35mwarning: \u001b[0m\u001b[1munused function\r\n",
        "      '__pyx_f_5numpy_PyArray_MultiIterNew5' [-Wunused-function]\u001b[0m\r\n",
        "static CYTHON_INLINE PyObject *__pyx_f_5numpy_PyArray_MultiIterNew5(PyObject *__pyx_v_a, PyObject *__pyx_v_b, Py...\r\n",
        "\u001b[0;1;32m                               ^\r\n",
        "\u001b[0m\u001b[1mhalotools/mock_observables/pair_counters/cpairs/cpairs.cpp:12049:27: \u001b[0m\u001b[0;1;35mwarning: \u001b[0m\u001b[1munused function\r\n",
        "      '__pyx_f_5numpy_set_array_base' [-Wunused-function]\u001b[0m\r\n",
        "static CYTHON_INLINE void __pyx_f_5numpy_set_array_base(PyArrayObject *__pyx_v_arr, PyObject *__pyx_v_base) {\r\n",
        "\u001b[0;1;32m                          ^\r\n",
        "\u001b[0m\u001b[1mhalotools/mock_observables/pair_counters/cpairs/cpairs.cpp:12145:32: \u001b[0m\u001b[0;1;35mwarning: \u001b[0m\u001b[1munused function\r\n",
        "      '__pyx_f_5numpy_get_array_base' [-Wunused-function]\u001b[0m\r\n",
        "static CYTHON_INLINE PyObject *__pyx_f_5numpy_get_array_base(PyArrayObject *__pyx_v_arr) {\r\n",
        "\u001b[0;1;32m                               ^\r\n",
        "\u001b[0m"
       ]
      },
      {
       "output_type": "stream",
       "stream": "stdout",
       "text": [
        "19 warnings generated.\r\n"
       ]
      },
      {
       "output_type": "stream",
       "stream": "stdout",
       "text": [
        "g++ -bundle -undefined dynamic_lookup -L/Users/aphearin/anaconda/lib -arch x86_64 -arch x86_64 build/temp.macosx-10.5-x86_64-2.7/halotools/mock_observables/pair_counters/cpairs/cpairs.o -L/Users/aphearin/anaconda/lib -o build/lib.macosx-10.5-x86_64-2.7/halotools/mock_observables/pair_counters/cpairs/cpairs.so\r\n",
        "cythoning halotools/mock_observables/pair_counters/cpairs/distances.pyx to halotools/mock_observables/pair_counters/cpairs/distances.cpp\r\n"
       ]
      },
      {
       "output_type": "stream",
       "stream": "stdout",
       "text": [
        "building 'halotools.mock_observables.pair_counters.cpairs.distances' extension\r\n",
        "gcc -fno-strict-aliasing -I/Users/aphearin/anaconda/include -arch x86_64 -DNDEBUG -g -fwrapv -O3 -Wall -Wstrict-prototypes -I/Users/aphearin/anaconda/lib/python2.7/site-packages/numpy/core/include -I/Users/aphearin/anaconda/include/python2.7 -c halotools/mock_observables/pair_counters/cpairs/distances.cpp -o build/temp.macosx-10.5-x86_64-2.7/halotools/mock_observables/pair_counters/cpairs/distances.o\r\n"
       ]
      },
      {
       "output_type": "stream",
       "stream": "stdout",
       "text": [
        "In file included from halotools/mock_observables/pair_counters/cpairs/distances.cpp:251:\r\n",
        "In file included from /Users/aphearin/anaconda/lib/python2.7/site-packages/numpy/core/include/numpy/arrayobject.h:4:\r\n",
        "In file included from /Users/aphearin/anaconda/lib/python2.7/site-packages/numpy/core/include/numpy/ndarrayobject.h:17:\r\n",
        "In file included from /Users/aphearin/anaconda/lib/python2.7/site-packages/numpy/core/include/numpy/ndarraytypes.h:1804:\r\n",
        "\u001b[1m/Users/aphearin/anaconda/lib/python2.7/site-packages/numpy/core/include/numpy/npy_1_7_deprecated_api.h:15:2: \u001b[0m\u001b[0;1;35mwarning: \u001b[0m\u001b[1m\r\n",
        "      \"Using deprecated NumPy API, disable it by \"          \"#defining NPY_NO_DEPRECATED_API NPY_1_7_API_VERSION\"\r\n",
        "      [-W#warnings]\u001b[0m\r\n",
        "#warning \"Using deprecated NumPy API, disable it by \" \\\r\n",
        "\u001b[0;1;32m ^\r\n",
        "\u001b[0m"
       ]
      },
      {
       "output_type": "stream",
       "stream": "stdout",
       "text": [
        "In file included from halotools/mock_observables/pair_counters/cpairs/distances.cpp:251:\r\n",
        "In file included from /Users/aphearin/anaconda/lib/python2.7/site-packages/numpy/core/include/numpy/arrayobject.h:4:\r\n",
        "In file included from /Users/aphearin/anaconda/lib/python2.7/site-packages/numpy/core/include/numpy/ndarrayobject.h:26:\r\n",
        "\u001b[1m/Users/aphearin/anaconda/lib/python2.7/site-packages/numpy/core/include/numpy/__multiarray_api.h:1629:1: \u001b[0m\u001b[0;1;35mwarning: \u001b[0m\u001b[1m\r\n",
        "      unused function '_import_array' [-Wunused-function]\u001b[0m\r\n",
        "_import_array(void)\r\n",
        "\u001b[0;1;32m^\r\n",
        "\u001b[0mIn file included from halotools/mock_observables/pair_counters/cpairs/distances.cpp:252:\r\n",
        "In file included from /Users/aphearin/anaconda/lib/python2.7/site-packages/numpy/core/include/numpy/ufuncobject.h:317:\r\n",
        "\u001b[1m/Users/aphearin/anaconda/lib/python2.7/site-packages/numpy/core/include/numpy/__ufunc_api.h:241:1: \u001b[0m\u001b[0;1;35mwarning: \u001b[0m\u001b[1munused\r\n",
        "      function '_import_umath' [-Wunused-function]\u001b[0m\r\n",
        "_import_umath(void)\r\n",
        "\u001b[0;1;32m^\r\n",
        "\u001b[0m\u001b[1mhalotools/mock_observables/pair_counters/cpairs/distances.cpp:5326:28: \u001b[0m\u001b[0;1;35mwarning: \u001b[0m\u001b[1munused function\r\n",
        "      '__Pyx_PyObject_AsString' [-Wunused-function]\u001b[0m\r\n",
        "static CYTHON_INLINE char* __Pyx_PyObject_AsString(PyObject* o) {\r\n",
        "\u001b[0;1;32m                           ^\r\n",
        "\u001b[0m\u001b[1mhalotools/mock_observables/pair_counters/cpairs/distances.cpp:5323:32: \u001b[0m\u001b[0;1;35mwarning: \u001b[0m\u001b[1munused function\r\n",
        "      '__Pyx_PyUnicode_FromString' [-Wunused-function]\u001b[0m\r\n",
        "static CYTHON_INLINE PyObject* __Pyx_PyUnicode_FromString(const char* c_str) {\r\n",
        "\u001b[0;1;32m                               ^\r\n",
        "\u001b[0m\u001b[1mhalotools/mock_observables/pair_counters/cpairs/distances.cpp:340:29: \u001b[0m\u001b[0;1;35mwarning: \u001b[0m\u001b[1munused function '__Pyx_Py_UNICODE_strlen'\r\n",
        "      [-Wunused-function]\u001b[0m\r\n",
        "static CYTHON_INLINE size_t __Pyx_Py_UNICODE_strlen(const Py_UNICODE *u)\r\n",
        "\u001b[0;1;32m                            ^\r\n",
        "\u001b[0m\u001b[1mhalotools/mock_observables/pair_counters/cpairs/distances.cpp:5438:33: \u001b[0m\u001b[0;1;35mwarning: \u001b[0m\u001b[1munused function\r\n",
        "      '__Pyx_PyIndex_AsSsize_t' [-Wunused-function]\u001b[0m\r\n",
        "static CYTHON_INLINE Py_ssize_t __Pyx_PyIndex_AsSsize_t(PyObject* b) {\r\n",
        "\u001b[0;1;32m                                ^\r\n",
        "\u001b[0m\u001b[1mhalotools/mock_observables/pair_counters/cpairs/distances.cpp:5500:33: \u001b[0m\u001b[0;1;35mwarning: \u001b[0m\u001b[1munused function '__Pyx_PyInt_FromSize_t'\r\n",
        "      [-Wunused-function]\u001b[0m\r\n",
        "static CYTHON_INLINE PyObject * __Pyx_PyInt_FromSize_t(size_t ival) {\r\n",
        "\u001b[0;1;32m                                ^\r\n",
        "\u001b[0m\u001b[1mhalotools/mock_observables/pair_counters/cpairs/distances.cpp:4017:27: \u001b[0m\u001b[0;1;35mwarning: \u001b[0m\u001b[1munused function '__Pyx_ErrFetch'\r\n",
        "      [-Wunused-function]\u001b[0m\r\n",
        "static CYTHON_INLINE void __Pyx_ErrFetch(PyObject **type, PyObject **value, PyObject **tb) {\r\n",
        "\u001b[0;1;32m                          ^\r\n",
        "\u001b[0m\u001b[1mhalotools/mock_observables/pair_counters/cpairs/distances.cpp:4452:48: \u001b[0m\u001b[0;1;35mwarning: \u001b[0m\u001b[1munused function\r\n",
        "      '__pyx_t_float_complex_from_parts' [-Wunused-function]\u001b[0m\r\n",
        "    static CYTHON_INLINE __pyx_t_float_complex __pyx_t_float_complex_from_parts(float x, float y) {\r\n",
        "\u001b[0;1;32m                                               ^\r\n",
        "\u001b[0m\u001b[1mhalotools/mock_observables/pair_counters/cpairs/distances.cpp:4572:49: \u001b[0m\u001b[0;1;35mwarning: \u001b[0m\u001b[1munused function\r\n",
        "      '__pyx_t_double_complex_from_parts' [-Wunused-function]\u001b[0m\r\n",
        "    static CYTHON_INLINE __pyx_t_double_complex __pyx_t_double_complex_from_parts(double x, double y) {\r\n",
        "\u001b[0;1;32m                                                ^\r\n",
        "\u001b[0m\u001b[1mhalotools/mock_observables/pair_counters/cpairs/distances.cpp:4951:32: \u001b[0m\u001b[0;1;35mwarning: \u001b[0m\u001b[1munused function '__Pyx_PyInt_From_long'\r\n",
        "      [-Wunused-function]\u001b[0m\r\n",
        "static CYTHON_INLINE PyObject* __Pyx_PyInt_From_long(long value) {\r\n",
        "\u001b[0;1;32m                               ^\r\n",
        "\u001b[0m\u001b[1mhalotools/mock_observables/pair_counters/cpairs/distances.cpp:4977:27: \u001b[0m\u001b[0;1;35mwarning: \u001b[0m\u001b[1mfunction '__Pyx_PyInt_As_long' is not\r\n",
        "      needed and will not be emitted [-Wunneeded-internal-declaration]\u001b[0m\r\n",
        "static CYTHON_INLINE long __Pyx_PyInt_As_long(PyObject *x) {\r\n",
        "\u001b[0;1;32m                          ^\r\n",
        "\u001b[0m\u001b[1mhalotools/mock_observables/pair_counters/cpairs/distances.cpp:2471:32: \u001b[0m\u001b[0;1;35mwarning: \u001b[0m\u001b[1munused function\r\n",
        "      '__pyx_f_5numpy_PyArray_MultiIterNew1' [-Wunused-function]\u001b[0m\r\n",
        "static CYTHON_INLINE PyObject *__pyx_f_5numpy_PyArray_MultiIterNew1(PyObject *__pyx_v_a) {\r\n",
        "\u001b[0;1;32m                               ^\r\n",
        "\u001b[0m\u001b[1mhalotools/mock_observables/pair_counters/cpairs/distances.cpp:2521:32: \u001b[0m\u001b[0;1;35mwarning: \u001b[0m\u001b[1munused function\r\n",
        "      '__pyx_f_5numpy_PyArray_MultiIterNew2' [-Wunused-function]\u001b[0m\r\n",
        "static CYTHON_INLINE PyObject *__pyx_f_5numpy_PyArray_MultiIterNew2(PyObject *__pyx_v_a, PyObject *__pyx_v_b) {\r\n",
        "\u001b[0;1;32m                               ^\r\n",
        "\u001b[0m\u001b[1mhalotools/mock_observables/pair_counters/cpairs/distances.cpp:2571:32: \u001b[0m\u001b[0;1;35mwarning: \u001b[0m\u001b[1munused function\r\n",
        "      '__pyx_f_5numpy_PyArray_MultiIterNew3' [-Wunused-function]\u001b[0m\r\n",
        "static CYTHON_INLINE PyObject *__pyx_f_5numpy_PyArray_MultiIterNew3(PyObject *__pyx_v_a, PyObject *__pyx_v_b, Py...\r\n",
        "\u001b[0;1;32m                               ^\r\n",
        "\u001b[0m\u001b[1mhalotools/mock_observables/pair_counters/cpairs/distances.cpp:2621:32: \u001b[0m\u001b[0;1;35mwarning: \u001b[0m\u001b[1munused function\r\n",
        "      '__pyx_f_5numpy_PyArray_MultiIterNew4' [-Wunused-function]\u001b[0m\r\n",
        "static CYTHON_INLINE PyObject *__pyx_f_5numpy_PyArray_MultiIterNew4(PyObject *__pyx_v_a, PyObject *__pyx_v_b, Py...\r\n",
        "\u001b[0;1;32m                               ^\r\n",
        "\u001b[0m\u001b[1mhalotools/mock_observables/pair_counters/cpairs/distances.cpp:2671:32: \u001b[0m\u001b[0;1;35mwarning: \u001b[0m\u001b[1munused function\r\n",
        "      '__pyx_f_5numpy_PyArray_MultiIterNew5' [-Wunused-function]\u001b[0m\r\n",
        "static CYTHON_INLINE PyObject *__pyx_f_5numpy_PyArray_MultiIterNew5(PyObject *__pyx_v_a, PyObject *__pyx_v_b, Py...\r\n",
        "\u001b[0;1;32m                               ^\r\n",
        "\u001b[0m\u001b[1mhalotools/mock_observables/pair_counters/cpairs/distances.cpp:3479:27: \u001b[0m\u001b[0;1;35mwarning: \u001b[0m\u001b[1munused function\r\n",
        "      '__pyx_f_5numpy_set_array_base' [-Wunused-function]\u001b[0m\r\n",
        "static CYTHON_INLINE void __pyx_f_5numpy_set_array_base(PyArrayObject *__pyx_v_arr, PyObject *__pyx_v_base) {\r\n",
        "\u001b[0;1;32m                          ^\r\n",
        "\u001b[0m\u001b[1mhalotools/mock_observables/pair_counters/cpairs/distances.cpp:3575:32: \u001b[0m\u001b[0;1;35mwarning: \u001b[0m\u001b[1munused function\r\n",
        "      '__pyx_f_5numpy_get_array_base' [-Wunused-function]\u001b[0m\r\n",
        "static CYTHON_INLINE PyObject *__pyx_f_5numpy_get_array_base(PyArrayObject *__pyx_v_arr) {\r\n",
        "\u001b[0;1;32m                               ^\r\n",
        "\u001b[0m"
       ]
      },
      {
       "output_type": "stream",
       "stream": "stdout",
       "text": [
        "20 warnings generated.\r\n",
        "g++ -bundle -undefined dynamic_lookup -L/Users/aphearin/anaconda/lib -arch x86_64 -arch x86_64 build/temp.macosx-10.5-x86_64-2.7/halotools/mock_observables/pair_counters/cpairs/distances.o -L/Users/aphearin/anaconda/lib -o build/lib.macosx-10.5-x86_64-2.7/halotools/mock_observables/pair_counters/cpairs/distances.so\r\n"
       ]
      },
      {
       "output_type": "stream",
       "stream": "stdout",
       "text": [
        "cythoning halotools/mock_observables/pair_counters/cpairs/pairwise_distances.pyx to halotools/mock_observables/pair_counters/cpairs/pairwise_distances.cpp\r\n"
       ]
      },
      {
       "output_type": "stream",
       "stream": "stdout",
       "text": [
        "building 'halotools.mock_observables.pair_counters.cpairs.pairwise_distances' extension\r\n",
        "gcc -fno-strict-aliasing -I/Users/aphearin/anaconda/include -arch x86_64 -DNDEBUG -g -fwrapv -O3 -Wall -Wstrict-prototypes -I/Users/aphearin/anaconda/lib/python2.7/site-packages/numpy/core/include -I/Users/aphearin/anaconda/include/python2.7 -c halotools/mock_observables/pair_counters/cpairs/pairwise_distances.cpp -o build/temp.macosx-10.5-x86_64-2.7/halotools/mock_observables/pair_counters/cpairs/pairwise_distances.o\r\n"
       ]
      },
      {
       "output_type": "stream",
       "stream": "stdout",
       "text": [
        "In file included from halotools/mock_observables/pair_counters/cpairs/pairwise_distances.cpp:251:\r\n",
        "In file included from /Users/aphearin/anaconda/lib/python2.7/site-packages/numpy/core/include/numpy/arrayobject.h:4:\r\n",
        "In file included from /Users/aphearin/anaconda/lib/python2.7/site-packages/numpy/core/include/numpy/ndarrayobject.h:17:\r\n",
        "In file included from /Users/aphearin/anaconda/lib/python2.7/site-packages/numpy/core/include/numpy/ndarraytypes.h:1804:\r\n",
        "\u001b[1m/Users/aphearin/anaconda/lib/python2.7/site-packages/numpy/core/include/numpy/npy_1_7_deprecated_api.h:15:2: \u001b[0m\u001b[0;1;35mwarning: \u001b[0m\u001b[1m\r\n",
        "      \"Using deprecated NumPy API, disable it by \"          \"#defining NPY_NO_DEPRECATED_API NPY_1_7_API_VERSION\"\r\n",
        "      [-W#warnings]\u001b[0m\r\n",
        "#warning \"Using deprecated NumPy API, disable it by \" \\\r\n",
        "\u001b[0;1;32m ^\r\n",
        "\u001b[0m"
       ]
      },
      {
       "output_type": "stream",
       "stream": "stdout",
       "text": [
        "In file included from halotools/mock_observables/pair_counters/cpairs/pairwise_distances.cpp:251:\r\n",
        "In file included from /Users/aphearin/anaconda/lib/python2.7/site-packages/numpy/core/include/numpy/arrayobject.h:4:\r\n",
        "In file included from /Users/aphearin/anaconda/lib/python2.7/site-packages/numpy/core/include/numpy/ndarrayobject.h:26:\r\n",
        "\u001b[1m/Users/aphearin/anaconda/lib/python2.7/site-packages/numpy/core/include/numpy/__multiarray_api.h:1629:1: \u001b[0m\u001b[0;1;35mwarning: \u001b[0m\u001b[1m\r\n",
        "      unused function '_import_array' [-Wunused-function]\u001b[0m\r\n",
        "_import_array(void)\r\n",
        "\u001b[0;1;32m^\r\n",
        "\u001b[0mIn file included from halotools/mock_observables/pair_counters/cpairs/pairwise_distances.cpp:252:\r\n",
        "In file included from /Users/aphearin/anaconda/lib/python2.7/site-packages/numpy/core/include/numpy/ufuncobject.h:317:\r\n",
        "\u001b[1m/Users/aphearin/anaconda/lib/python2.7/site-packages/numpy/core/include/numpy/__ufunc_api.h:241:1: \u001b[0m\u001b[0;1;35mwarning: \u001b[0m\u001b[1munused\r\n",
        "      function '_import_umath' [-Wunused-function]\u001b[0m\r\n",
        "_import_umath(void)\r\n",
        "\u001b[0;1;32m^\r\n",
        "\u001b[0m\u001b[1mhalotools/mock_observables/pair_counters/cpairs/pairwise_distances.cpp:9535:28: \u001b[0m\u001b[0;1;35mwarning: \u001b[0m\u001b[1munused function\r\n",
        "      '__Pyx_PyObject_AsString' [-Wunused-function]\u001b[0m\r\n",
        "static CYTHON_INLINE char* __Pyx_PyObject_AsString(PyObject* o) {\r\n",
        "\u001b[0;1;32m                           ^\r\n",
        "\u001b[0m\u001b[1mhalotools/mock_observables/pair_counters/cpairs/pairwise_distances.cpp:9532:32: \u001b[0m\u001b[0;1;35mwarning: \u001b[0m\u001b[1munused function\r\n",
        "      '__Pyx_PyUnicode_FromString' [-Wunused-function]\u001b[0m\r\n",
        "static CYTHON_INLINE PyObject* __Pyx_PyUnicode_FromString(const char* c_str) {\r\n",
        "\u001b[0;1;32m                               ^\r\n",
        "\u001b[0m\u001b[1mhalotools/mock_observables/pair_counters/cpairs/pairwise_distances.cpp:345:29: \u001b[0m\u001b[0;1;35mwarning: \u001b[0m\u001b[1munused function\r\n",
        "      '__Pyx_Py_UNICODE_strlen' [-Wunused-function]\u001b[0m\r\n",
        "static CYTHON_INLINE size_t __Pyx_Py_UNICODE_strlen(const Py_UNICODE *u)\r\n",
        "\u001b[0;1;32m                            ^\r\n",
        "\u001b[0m\u001b[1mhalotools/mock_observables/pair_counters/cpairs/pairwise_distances.cpp:9647:33: \u001b[0m\u001b[0;1;35mwarning: \u001b[0m\u001b[1munused function\r\n",
        "      '__Pyx_PyIndex_AsSsize_t' [-Wunused-function]\u001b[0m\r\n",
        "static CYTHON_INLINE Py_ssize_t __Pyx_PyIndex_AsSsize_t(PyObject* b) {\r\n",
        "\u001b[0;1;32m                                ^\r\n",
        "\u001b[0m\u001b[1mhalotools/mock_observables/pair_counters/cpairs/pairwise_distances.cpp:9709:33: \u001b[0m\u001b[0;1;35mwarning: \u001b[0m\u001b[1munused function\r\n",
        "      '__Pyx_PyInt_FromSize_t' [-Wunused-function]\u001b[0m\r\n",
        "static CYTHON_INLINE PyObject * __Pyx_PyInt_FromSize_t(size_t ival) {\r\n",
        "\u001b[0;1;32m                                ^\r\n",
        "\u001b[0m\u001b[1mhalotools/mock_observables/pair_counters/cpairs/pairwise_distances.cpp:8299:31: \u001b[0m\u001b[0;1;35mwarning: \u001b[0m\u001b[1mfunction\r\n",
        "      '__Pyx_PyInt_As_npy_long' is not needed and will not be emitted [-Wunneeded-internal-declaration]\u001b[0m\r\n",
        "static CYTHON_INLINE npy_long __Pyx_PyInt_As_npy_long(PyObject *x) {\r\n",
        "\u001b[0;1;32m                              ^\r\n",
        "\u001b[0m\u001b[1mhalotools/mock_observables/pair_counters/cpairs/pairwise_distances.cpp:8695:48: \u001b[0m\u001b[0;1;35mwarning: \u001b[0m\u001b[1munused function\r\n",
        "      '__pyx_t_float_complex_from_parts' [-Wunused-function]\u001b[0m\r\n",
        "    static CYTHON_INLINE __pyx_t_float_complex __pyx_t_float_complex_from_parts(float x, float y) {\r\n",
        "\u001b[0;1;32m                                               ^\r\n",
        "\u001b[0m\u001b[1mhalotools/mock_observables/pair_counters/cpairs/pairwise_distances.cpp:8815:49: \u001b[0m\u001b[0;1;35mwarning: \u001b[0m\u001b[1munused function\r\n",
        "      '__pyx_t_double_complex_from_parts' [-Wunused-function]\u001b[0m\r\n",
        "    static CYTHON_INLINE __pyx_t_double_complex __pyx_t_double_complex_from_parts(double x, double y) {\r\n",
        "\u001b[0;1;32m                                                ^\r\n",
        "\u001b[0m\u001b[1mhalotools/mock_observables/pair_counters/cpairs/pairwise_distances.cpp:8959:29: \u001b[0m\u001b[0;1;35mwarning: \u001b[0m\u001b[1mfunction\r\n",
        "      '__Pyx_PyInt_As_size_t' is not needed and will not be emitted [-Wunneeded-internal-declaration]\u001b[0m\r\n",
        "static CYTHON_INLINE size_t __Pyx_PyInt_As_size_t(PyObject *x) {\r\n",
        "\u001b[0;1;32m                            ^\r\n",
        "\u001b[0m\u001b[1mhalotools/mock_observables/pair_counters/cpairs/pairwise_distances.cpp:9143:32: \u001b[0m\u001b[0;1;35mwarning: \u001b[0m\u001b[1munused function\r\n",
        "      '__Pyx_PyInt_From_long' [-Wunused-function]\u001b[0m\r\n",
        "static CYTHON_INLINE PyObject* __Pyx_PyInt_From_long(long value) {\r\n",
        "\u001b[0;1;32m                               ^\r\n",
        "\u001b[0m\u001b[1mhalotools/mock_observables/pair_counters/cpairs/pairwise_distances.cpp:9169:27: \u001b[0m\u001b[0;1;35mwarning: \u001b[0m\u001b[1mfunction '__Pyx_PyInt_As_long'\r\n",
        "      is not needed and will not be emitted [-Wunneeded-internal-declaration]\u001b[0m\r\n",
        "static CYTHON_INLINE long __Pyx_PyInt_As_long(PyObject *x) {\r\n",
        "\u001b[0;1;32m                          ^\r\n",
        "\u001b[0m\u001b[1mhalotools/mock_observables/pair_counters/cpairs/pairwise_distances.cpp:5172:32: \u001b[0m\u001b[0;1;35mwarning: \u001b[0m\u001b[1munused function\r\n",
        "      '__pyx_f_5numpy_PyArray_MultiIterNew1' [-Wunused-function]\u001b[0m\r\n",
        "static CYTHON_INLINE PyObject *__pyx_f_5numpy_PyArray_MultiIterNew1(PyObject *__pyx_v_a) {\r\n",
        "\u001b[0;1;32m                               ^\r\n",
        "\u001b[0m\u001b[1mhalotools/mock_observables/pair_counters/cpairs/pairwise_distances.cpp:5222:32: \u001b[0m\u001b[0;1;35mwarning: \u001b[0m\u001b[1munused function\r\n",
        "      '__pyx_f_5numpy_PyArray_MultiIterNew2' [-Wunused-function]\u001b[0m\r\n",
        "static CYTHON_INLINE PyObject *__pyx_f_5numpy_PyArray_MultiIterNew2(PyObject *__pyx_v_a, PyObject *__pyx_v_b) {\r\n",
        "\u001b[0;1;32m                               ^\r\n",
        "\u001b[0m\u001b[1mhalotools/mock_observables/pair_counters/cpairs/pairwise_distances.cpp:5272:32: \u001b[0m\u001b[0;1;35mwarning: \u001b[0m\u001b[1munused function\r\n",
        "      '__pyx_f_5numpy_PyArray_MultiIterNew3' [-Wunused-function]\u001b[0m\r\n",
        "static CYTHON_INLINE PyObject *__pyx_f_5numpy_PyArray_MultiIterNew3(PyObject *__pyx_v_a, PyObject *__pyx_v_b, Py...\r\n",
        "\u001b[0;1;32m                               ^\r\n",
        "\u001b[0m\u001b[1mhalotools/mock_observables/pair_counters/cpairs/pairwise_distances.cpp:5322:32: \u001b[0m\u001b[0;1;35mwarning: \u001b[0m\u001b[1munused function\r\n",
        "      '__pyx_f_5numpy_PyArray_MultiIterNew4' [-Wunused-function]\u001b[0m\r\n",
        "static CYTHON_INLINE PyObject *__pyx_f_5numpy_PyArray_MultiIterNew4(PyObject *__pyx_v_a, PyObject *__pyx_v_b, Py...\r\n",
        "\u001b[0;1;32m                               ^\r\n",
        "\u001b[0m\u001b[1mhalotools/mock_observables/pair_counters/cpairs/pairwise_distances.cpp:5372:32: \u001b[0m\u001b[0;1;35mwarning: \u001b[0m\u001b[1munused function\r\n",
        "      '__pyx_f_5numpy_PyArray_MultiIterNew5' [-Wunused-function]\u001b[0m\r\n",
        "static CYTHON_INLINE PyObject *__pyx_f_5numpy_PyArray_MultiIterNew5(PyObject *__pyx_v_a, PyObject *__pyx_v_b, Py...\r\n",
        "\u001b[0;1;32m                               ^\r\n",
        "\u001b[0m\u001b[1mhalotools/mock_observables/pair_counters/cpairs/pairwise_distances.cpp:6180:27: \u001b[0m\u001b[0;1;35mwarning: \u001b[0m\u001b[1munused function\r\n",
        "      '__pyx_f_5numpy_set_array_base' [-Wunused-function]\u001b[0m\r\n",
        "static CYTHON_INLINE void __pyx_f_5numpy_set_array_base(PyArrayObject *__pyx_v_arr, PyObject *__pyx_v_base) {\r\n",
        "\u001b[0;1;32m                          ^\r\n",
        "\u001b[0m\u001b[1mhalotools/mock_observables/pair_counters/cpairs/pairwise_distances.cpp:6276:32: \u001b[0m\u001b[0;1;35mwarning: \u001b[0m\u001b[1munused function\r\n",
        "      '__pyx_f_5numpy_get_array_base' [-Wunused-function]\u001b[0m\r\n",
        "static CYTHON_INLINE PyObject *__pyx_f_5numpy_get_array_base(PyArrayObject *__pyx_v_arr) {\r\n",
        "\u001b[0;1;32m                               ^\r\n",
        "\u001b[0m"
       ]
      },
      {
       "output_type": "stream",
       "stream": "stdout",
       "text": [
        "21 warnings generated.\r\n",
        "g++ -bundle -undefined dynamic_lookup -L/Users/aphearin/anaconda/lib -arch x86_64 -arch x86_64 build/temp.macosx-10.5-x86_64-2.7/halotools/mock_observables/pair_counters/cpairs/pairwise_distances.o -L/Users/aphearin/anaconda/lib -o build/lib.macosx-10.5-x86_64-2.7/halotools/mock_observables/pair_counters/cpairs/pairwise_distances.so\r\n"
       ]
      },
      {
       "output_type": "stream",
       "stream": "stdout",
       "text": [
        "cythoning halotools/mock_observables/pair_counters/marked_cpairs/marked_cpairs.pyx to halotools/mock_observables/pair_counters/marked_cpairs/marked_cpairs.c\r\n"
       ]
      },
      {
       "output_type": "stream",
       "stream": "stdout",
       "text": [
        "building 'halotools.mock_observables.pair_counters.marked_cpairs.marked_cpairs' extension\r\n",
        "creating build/temp.macosx-10.5-x86_64-2.7/halotools/mock_observables/pair_counters/marked_cpairs\r\n",
        "gcc -fno-strict-aliasing -I/Users/aphearin/anaconda/include -arch x86_64 -DNDEBUG -g -fwrapv -O3 -Wall -Wstrict-prototypes -I/Users/aphearin/anaconda/lib/python2.7/site-packages/numpy/core/include -I/Users/aphearin/anaconda/include/python2.7 -c halotools/mock_observables/pair_counters/marked_cpairs/marked_cpairs.c -o build/temp.macosx-10.5-x86_64-2.7/halotools/mock_observables/pair_counters/marked_cpairs/marked_cpairs.o\r\n"
       ]
      },
      {
       "output_type": "stream",
       "stream": "stdout",
       "text": [
        "In file included from halotools/mock_observables/pair_counters/marked_cpairs/marked_cpairs.c:242:\r\n",
        "In file included from /Users/aphearin/anaconda/lib/python2.7/site-packages/numpy/core/include/numpy/arrayobject.h:4:\r\n",
        "In file included from /Users/aphearin/anaconda/lib/python2.7/site-packages/numpy/core/include/numpy/ndarrayobject.h:17:\r\n",
        "In file included from /Users/aphearin/anaconda/lib/python2.7/site-packages/numpy/core/include/numpy/ndarraytypes.h:1804:\r\n",
        "\u001b[1m/Users/aphearin/anaconda/lib/python2.7/site-packages/numpy/core/include/numpy/npy_1_7_deprecated_api.h:15:2: \u001b[0m\u001b[0;1;35mwarning: \u001b[0m\u001b[1m\r\n",
        "      \"Using deprecated NumPy API, disable it by \"          \"#defining NPY_NO_DEPRECATED_API NPY_1_7_API_VERSION\"\r\n",
        "      [-W#warnings]\u001b[0m\r\n",
        "#warning \"Using deprecated NumPy API, disable it by \" \\\r\n",
        "\u001b[0;1;32m ^\r\n",
        "\u001b[0m"
       ]
      },
      {
       "output_type": "stream",
       "stream": "stdout",
       "text": [
        "In file included from halotools/mock_observables/pair_counters/marked_cpairs/marked_cpairs.c:242:\r\n",
        "In file included from /Users/aphearin/anaconda/lib/python2.7/site-packages/numpy/core/include/numpy/arrayobject.h:4:\r\n",
        "In file included from /Users/aphearin/anaconda/lib/python2.7/site-packages/numpy/core/include/numpy/ndarrayobject.h:26:\r\n",
        "\u001b[1m/Users/aphearin/anaconda/lib/python2.7/site-packages/numpy/core/include/numpy/__multiarray_api.h:1629:1: \u001b[0m\u001b[0;1;35mwarning: \u001b[0m\u001b[1m\r\n",
        "      unused function '_import_array' [-Wunused-function]\u001b[0m\r\n",
        "_import_array(void)\r\n",
        "\u001b[0;1;32m^\r\n",
        "\u001b[0mIn file included from halotools/mock_observables/pair_counters/marked_cpairs/marked_cpairs.c:243:\r\n",
        "In file included from /Users/aphearin/anaconda/lib/python2.7/site-packages/numpy/core/include/numpy/ufuncobject.h:317:\r\n",
        "\u001b[1m/Users/aphearin/anaconda/lib/python2.7/site-packages/numpy/core/include/numpy/__ufunc_api.h:241:1: \u001b[0m\u001b[0;1;35mwarning: \u001b[0m\u001b[1munused\r\n",
        "      function '_import_umath' [-Wunused-function]\u001b[0m\r\n",
        "_import_umath(void)\r\n",
        "\u001b[0;1;32m^\r\n",
        "\u001b[0m\u001b[1mhalotools/mock_observables/pair_counters/marked_cpairs/marked_cpairs.c:8672:28: \u001b[0m\u001b[0;1;35mwarning: \u001b[0m\u001b[1munused function\r\n",
        "      '__Pyx_PyObject_AsString' [-Wunused-function]\u001b[0m\r\n",
        "static CYTHON_INLINE char* __Pyx_PyObject_AsString(PyObject* o) {\r\n",
        "\u001b[0;1;32m                           ^\r\n",
        "\u001b[0m\u001b[1mhalotools/mock_observables/pair_counters/marked_cpairs/marked_cpairs.c:8669:32: \u001b[0m\u001b[0;1;35mwarning: \u001b[0m\u001b[1munused function\r\n",
        "      '__Pyx_PyUnicode_FromString'"
       ]
      },
      {
       "output_type": "stream",
       "stream": "stdout",
       "text": [
        " [-Wunused-function]\u001b[0m\r\n",
        "static CYTHON_INLINE PyObject* __Pyx_PyUnicode_FromString(const char* c_str) {\r\n",
        "\u001b[0;1;32m                               ^\r\n",
        "\u001b[0m\u001b[1mhalotools/mock_observables/pair_counters/marked_cpairs/marked_cpairs.c:331:29: \u001b[0m\u001b[0;1;35mwarning: \u001b[0m\u001b[1munused function\r\n",
        "      '__Pyx_Py_UNICODE_strlen' [-Wunused-function]\u001b[0m\r\n",
        "static CYTHON_INLINE size_t __Pyx_Py_UNICODE_strlen(const Py_UNICODE *u)\r\n",
        "\u001b[0;1;32m                            ^\r\n",
        "\u001b[0m\u001b[1mhalotools/mock_observables/pair_counters/marked_cpairs/marked_cpairs.c:8784:33: \u001b[0m\u001b[0;1;35mwarning: \u001b[0m\u001b[1munused function\r\n",
        "      '__Pyx_PyIndex_AsSsize_t' [-Wunused-function]\u001b[0m\r\n",
        "static CYTHON_INLINE Py_ssize_t __Pyx_PyIndex_AsSsize_t(PyObject* b) {\r\n",
        "\u001b[0;1;32m                                ^\r\n",
        "\u001b[0m\u001b[1mhalotools/mock_observables/pair_counters/marked_cpairs/marked_cpairs.c:8846:33: \u001b[0m\u001b[0;1;35mwarning: \u001b[0m\u001b[1munused function\r\n",
        "      '__Pyx_PyInt_FromSize_t' [-Wunused-function]\u001b[0m\r\n",
        "static CYTHON_INLINE PyObject * __Pyx_PyInt_FromSize_t(size_t ival) {\r\n",
        "\u001b[0;1;32m                                ^\r\n",
        "\u001b[0m\u001b[1mhalotools/mock_observables/pair_counters/marked_cpairs/marked_cpairs.c:6904:32: \u001b[0m\u001b[0;1;35mwarning: \u001b[0m\u001b[1munused function\r\n",
        "      '__Pyx_GetItemInt_List_Fast' [-Wunused-function]\u001b[0m\r\n",
        "static CYTHON_INLINE PyObject *__Pyx_GetItemInt_List_Fast(PyObject *o, Py_ssize_t i,\r\n",
        "\u001b[0;1;32m                               ^\r\n",
        "\u001b[0m\u001b[1mhalotools/mock_observables/pair_counters/marked_cpairs/marked_cpairs.c:6919:32: \u001b[0m\u001b[0;1;35mwarning: \u001b[0m\u001b[1munused function\r\n",
        "      '__Pyx_GetItemInt_Tuple_Fast' [-Wunused-function]\u001b[0m\r\n",
        "static CYTHON_INLINE PyObject *__Pyx_GetItemInt_Tuple_Fast(PyObject *o, Py_ssize_t i,\r\n",
        "\u001b[0;1;32m                               ^\r\n",
        "\u001b[0m\u001b[1mhalotools/mock_observables/pair_counters/marked_cpairs/marked_cpairs.c:8051:48: \u001b[0m\u001b[0;1;35mwarning: \u001b[0m\u001b[1munused function\r\n",
        "      '__pyx_t_float_complex_from_parts' [-Wunused-function]\u001b[0m\r\n",
        "    static CYTHON_INLINE __pyx_t_float_complex __pyx_t_float_complex_from_parts(float x, float y) {\r\n",
        "\u001b[0;1;32m                                               ^\r\n",
        "\u001b[0m\u001b[1mhalotools/mock_observables/pair_counters/marked_cpairs/marked_cpairs.c:8061:30: \u001b[0m\u001b[0;1;35mwarning: \u001b[0m\u001b[1munused function '__Pyx_c_eqf'\r\n",
        "      [-Wunused-function]\u001b[0m\r\n",
        "    static CYTHON_INLINE int __Pyx_c_eqf(__pyx_t_float_complex a, __pyx_t_float_complex b) {\r\n",
        "\u001b[0;1;32m                             ^\r\n",
        "\u001b[0m\u001b[1mhalotools/mock_observables/pair_counters/marked_cpairs/marked_cpairs.c:8064:48: \u001b[0m\u001b[0;1;35mwarning: \u001b[0m\u001b[1munused function '__Pyx_c_sumf'\r\n",
        "      [-Wunused-function]\u001b[0m\r\n",
        "    static CYTHON_INLINE __pyx_t_float_complex __Pyx_c_sumf(__pyx_t_float_complex a, __pyx_t_float_complex b) {\r\n",
        "\u001b[0;1;32m                                               ^\r\n",
        "\u001b[0m\u001b[1mhalotools/mock_observables/pair_counters/marked_cpairs/marked_cpairs.c:8070:48: \u001b[0m\u001b[0;1;35mwarning: \u001b[0m\u001b[1munused function '__Pyx_c_difff'\r\n",
        "      [-Wunused-function]\u001b[0m\r\n",
        "    static CYTHON_INLINE __pyx_t_float_complex __Pyx_c_difff(__pyx_t_float_complex a, __pyx_t_float_complex b) {\r\n",
        "\u001b[0;1;32m                                               ^\r\n",
        "\u001b[0m\u001b[1mhalotools/mock_observables/pair_counters/marked_cpairs/marked_cpairs.c:8082:48: \u001b[0m\u001b[0;1;35mwarning: \u001b[0m\u001b[1munused function '__Pyx_c_quotf'\r\n",
        "      [-Wunused-function]\u001b[0m\r\n",
        "    static CYTHON_INLINE __pyx_t_float_complex __Pyx_c_quotf(__pyx_t_float_complex a, __pyx_t_float_complex b) {\r\n",
        "\u001b[0;1;32m                                               ^\r\n",
        "\u001b[0m\u001b[1mhalotools/mock_observables/pair_counters/marked_cpairs/marked_cpairs.c:8089:48: \u001b[0m\u001b[0;1;35mwarning: \u001b[0m\u001b[1munused function '__Pyx_c_negf'\r\n",
        "      [-Wunused-function]\u001b[0m\r\n",
        "    static CYTHON_INLINE __pyx_t_float_complex __Pyx_c_negf(__pyx_t_float_complex a) {\r\n",
        "\u001b[0;1;32m                                               ^\r\n",
        "\u001b[0m\u001b[1mhalotools/mock_observables/pair_counters/marked_cpairs/marked_cpairs.c:8095:30: \u001b[0m\u001b[0;1;35mwarning: \u001b[0m\u001b[1munused function\r\n",
        "      '__Pyx_c_is_zerof' [-Wunused-function]\u001b[0m\r\n",
        "    static CYTHON_INLINE int __Pyx_c_is_zerof(__pyx_t_float_complex a) {\r\n",
        "\u001b[0;1;32m                             ^\r\n",
        "\u001b[0m\u001b[1mhalotools/mock_observables/pair_counters/marked_cpairs/marked_cpairs.c:8098:48: \u001b[0m\u001b[0;1;35mwarning: \u001b[0m\u001b[1munused function '__Pyx_c_conjf'\r\n",
        "      [-Wunused-function]\u001b[0m\r\n",
        "    static CYTHON_INLINE __pyx_t_float_complex __Pyx_c_conjf(__pyx_t_float_complex a) {\r\n",
        "\u001b[0;1;32m                                               ^\r\n",
        "\u001b[0m\u001b[1mhalotools/mock_observables/pair_counters/marked_cpairs/marked_cpairs.c:8112:52: \u001b[0m\u001b[0;1;35mwarning: \u001b[0m\u001b[1munused function '__Pyx_c_powf'\r\n",
        "      [-Wunused-function]\u001b[0m\r\n",
        "        static CYTHON_INLINE __pyx_t_float_complex __Pyx_c_powf(__pyx_t_float_complex a, __pyx_t_float_complex b) {\r\n",
        "\u001b[0;1;32m                                                   ^\r\n",
        "\u001b[0m\u001b[1mhalotools/mock_observables/pair_counters/marked_cpairs/marked_cpairs.c:8171:49: \u001b[0m\u001b[0;1;35mwarning: \u001b[0m\u001b[1munused function\r\n",
        "      '__pyx_t_double_complex_from_parts' [-Wunused-function]\u001b[0m\r\n",
        "    static CYTHON_INLINE __pyx_t_double_complex __pyx_t_double_complex_from_parts(double x, double y) {\r\n",
        "\u001b[0;1;32m                                                ^\r\n",
        "\u001b[0m\u001b[1mhalotools/mock_observables/pair_counters/marked_cpairs/marked_cpairs.c:8181:30: \u001b[0m\u001b[0;1;35mwarning: \u001b[0m\u001b[1munused function '__Pyx_c_eq'\r\n",
        "      [-Wunused-function]\u001b[0m\r\n",
        "    static CYTHON_INLINE int __Pyx_c_eq(__pyx_t_double_complex a, __pyx_t_double_complex b) {\r\n",
        "\u001b[0;1;32m                             ^\r\n",
        "\u001b[0m\u001b[1mhalotools/mock_observables/pair_counters/marked_cpairs/marked_cpairs.c:8184:49: \u001b[0m\u001b[0;1;35mwarning: \u001b[0m\u001b[1munused function '__Pyx_c_sum'\r\n",
        "      [-Wunused-function]\u001b[0m\r\n",
        "    static CYTHON_INLINE __pyx_t_double_complex __Pyx_c_sum(__pyx_t_double_complex a, __pyx_t_double_complex b) {\r\n",
        "\u001b[0;1;32m                                                ^\r\n",
        "\u001b[0m\u001b[1mhalotools/mock_observables/pair_counters/marked_cpairs/marked_cpairs.c:8190:49: \u001b[0m\u001b[0;1;35mwarning: \u001b[0m\u001b[1munused function '__Pyx_c_diff'\r\n",
        "      [-Wunused-function]\u001b[0m\r\n",
        "    static CYTHON_INLINE __pyx_t_double_complex __Pyx_c_diff(__pyx_t_double_complex a, __pyx_t_double_complex b) {\r\n",
        "\u001b[0;1;32m                                                ^\r\n",
        "\u001b[0m\u001b[1mhalotools/mock_observables/pair_counters/marked_cpairs/marked_cpairs.c:8202:49: \u001b[0m\u001b[0;1;35mwarning: \u001b[0m\u001b[1munused function '__Pyx_c_quot'\r\n",
        "      [-Wunused-function]\u001b[0m\r\n",
        "    static CYTHON_INLINE __pyx_t_double_complex __Pyx_c_quot(__pyx_t_double_complex a, __pyx_t_double_complex b) {\r\n",
        "\u001b[0;1;32m                                                ^\r\n",
        "\u001b[0m\u001b[1mhalotools/mock_observables/pair_counters/marked_cpairs/marked_cpairs.c:8209:49: \u001b[0m\u001b[0;1;35mwarning: \u001b[0m\u001b[1munused function '__Pyx_c_neg'\r\n",
        "      [-Wunused-function]\u001b[0m\r\n",
        "    static CYTHON_INLINE __pyx_t_double_complex __Pyx_c_neg(__pyx_t_double_complex a) {\r\n",
        "\u001b[0;1;32m                                                ^\r\n",
        "\u001b[0m\u001b[1mhalotools/mock_observables/pair_counters/marked_cpairs/marked_cpairs.c:8215:30: \u001b[0m\u001b[0;1;35mwarning: \u001b[0m\u001b[1munused function\r\n",
        "      '__Pyx_c_is_zero' [-Wunused-function]\u001b[0m\r\n",
        "    static CYTHON_INLINE int __Pyx_c_is_zero(__pyx_t_double_complex a) {\r\n",
        "\u001b[0;1;32m                             ^\r\n",
        "\u001b[0m\u001b[1mhalotools/mock_observables/pair_counters/marked_cpairs/marked_cpairs.c:8218:49: \u001b[0m\u001b[0;1;35mwarning: \u001b[0m\u001b[1munused function '__Pyx_c_conj'\r\n",
        "      [-Wunused-function]\u001b[0m\r\n",
        "    static CYTHON_INLINE __pyx_t_double_complex __Pyx_c_conj(__pyx_t_double_complex a) {\r\n",
        "\u001b[0;1;32m                                                ^\r\n",
        "\u001b[0m\u001b[1mhalotools/mock_observables/pair_counters/marked_cpairs/marked_cpairs.c:8232:53: \u001b[0m\u001b[0;1;35mwarning: \u001b[0m\u001b[1munused function '__Pyx_c_pow'\r\n",
        "      [-Wunused-function]\u001b[0m\r\n",
        "        static CYTHON_INLINE __pyx_t_double_complex __Pyx_c_pow(__pyx_t_double_complex a, __pyx_t_double_complex b) {\r\n",
        "\u001b[0;1;32m                                                    ^\r\n",
        "\u001b[0m\u001b[1mhalotools/mock_observables/pair_counters/marked_cpairs/marked_cpairs.c:8306:27: \u001b[0m\u001b[0;1;35mwarning: \u001b[0m\u001b[1mfunction '__Pyx_PyInt_As_long'\r\n",
        "      is not needed and will not be emitted [-Wunneeded-internal-declaration]\u001b[0m\r\n",
        "static CYTHON_INLINE long __Pyx_PyInt_As_long(PyObject *x) {\r\n",
        "\u001b[0;1;32m                          ^\r\n",
        "\u001b[0m\u001b[1mhalotools/mock_observables/pair_counters/marked_cpairs/marked_cpairs.c:4415:32: \u001b[0m\u001b[0;1;35mwarning: \u001b[0m\u001b[1munused function\r\n",
        "      '__pyx_f_5numpy_PyArray_MultiIterNew1' [-Wunused-function]\u001b[0m\r\n",
        "static CYTHON_INLINE PyObject *__pyx_f_5numpy_PyArray_MultiIterNew1(PyObject *__pyx_v_a) {\r\n",
        "\u001b[0;1;32m                               ^\r\n",
        "\u001b[0m\u001b[1mhalotools/mock_observables/pair_counters/marked_cpairs/marked_cpairs.c:4465:32: \u001b[0m\u001b[0;1;35mwarning: \u001b[0m\u001b[1munused function\r\n",
        "      '__pyx_f_5numpy_PyArray_MultiIterNew2' [-Wunused-function]\u001b[0m\r\n",
        "static CYTHON_INLINE PyObject *__pyx_f_5numpy_PyArray_MultiIterNew2(PyObject *__pyx_v_a, PyObject *__pyx_v_b) {\r\n",
        "\u001b[0;1;32m                               ^\r\n",
        "\u001b[0m\u001b[1mhalotools/mock_observables/pair_counters/marked_cpairs/marked_cpairs.c:4515:32: \u001b[0m\u001b[0;1;35mwarning: \u001b[0m\u001b[1munused function\r\n",
        "      '__pyx_f_5numpy_PyArray_MultiIterNew3' [-Wunused-function]\u001b[0m\r\n",
        "static CYTHON_INLINE PyObject *__pyx_f_5numpy_PyArray_MultiIterNew3(PyObject *__pyx_v_a, PyObject *__pyx_v_b, Py...\r\n",
        "\u001b[0;1;32m                               ^\r\n",
        "\u001b[0m\u001b[1mhalotools/mock_observables/pair_counters/marked_cpairs/marked_cpairs.c:4565:32: \u001b[0m\u001b[0;1;35mwarning: \u001b[0m\u001b[1munused function\r\n",
        "      '__pyx_f_5numpy_PyArray_MultiIterNew4' [-Wunused-function]\u001b[0m\r\n",
        "static CYTHON_INLINE PyObject *__pyx_f_5numpy_PyArray_MultiIterNew4(PyObject *__pyx_v_a, PyObject *__pyx_v_b, Py...\r\n",
        "\u001b[0;1;32m                               ^\r\n",
        "\u001b[0m\u001b[1mhalotools/mock_observables/pair_counters/marked_cpairs/marked_cpairs.c:4615:32: \u001b[0m\u001b[0;1;35mwarning: \u001b[0m\u001b[1munused function\r\n",
        "      '__pyx_f_5numpy_PyArray_MultiIterNew5' [-Wunused-function]\u001b[0m\r\n",
        "static CYTHON_INLINE PyObject *__pyx_f_5numpy_PyArray_MultiIterNew5(PyObject *__pyx_v_a, PyObject *__pyx_v_b, Py...\r\n",
        "\u001b[0;1;32m                               ^\r\n",
        "\u001b[0m\u001b[1mhalotools/mock_observables/pair_counters/marked_cpairs/marked_cpairs.c:5423:27: \u001b[0m\u001b[0;1;35mwarning: \u001b[0m\u001b[1munused function\r\n",
        "      '__pyx_f_5numpy_set_array_base' [-Wunused-function]\u001b[0m\r\n",
        "static CYTHON_INLINE void __pyx_f_5numpy_set_array_base(PyArrayObject *__pyx_v_arr, PyObject *__pyx_v_base) {\r\n",
        "\u001b[0;1;32m                          ^\r\n",
        "\u001b[0m\u001b[1mhalotools/mock_observables/pair_counters/marked_cpairs/marked_cpairs.c:5519:32: \u001b[0m\u001b[0;1;35mwarning: \u001b[0m\u001b[1munused function\r\n",
        "      '__pyx_f_5numpy_get_array_base' [-Wunused-function]\u001b[0m\r\n",
        "static CYTHON_INLINE PyObject *__pyx_f_5numpy_get_array_base(PyArrayObject *__pyx_v_arr) {\r\n",
        "\u001b[0;1;32m                               ^\r\n",
        "\u001b[0m"
       ]
      },
      {
       "output_type": "stream",
       "stream": "stdout",
       "text": [
        "36 warnings generated.\r\n",
        "gcc -bundle -undefined dynamic_lookup -L/Users/aphearin/anaconda/lib -arch x86_64 -arch x86_64 build/temp.macosx-10.5-x86_64-2.7/halotools/mock_observables/pair_counters/marked_cpairs/marked_cpairs.o -L/Users/aphearin/anaconda/lib -o build/lib.macosx-10.5-x86_64-2.7/halotools/mock_observables/pair_counters/marked_cpairs/marked_cpairs.so\r\n",
        "cythoning halotools/mock_observables/pair_counters/marked_cpairs/weighting_functions.pyx to halotools/mock_observables/pair_counters/marked_cpairs/weighting_functions.c\r\n"
       ]
      },
      {
       "output_type": "stream",
       "stream": "stdout",
       "text": [
        "building 'halotools.mock_observables.pair_counters.marked_cpairs.weighting_functions' extension\r\n",
        "gcc -fno-strict-aliasing -I/Users/aphearin/anaconda/include -arch x86_64 -DNDEBUG -g -fwrapv -O3 -Wall -Wstrict-prototypes -I/Users/aphearin/anaconda/lib/python2.7/site-packages/numpy/core/include -I/Users/aphearin/anaconda/include/python2.7 -c halotools/mock_observables/pair_counters/marked_cpairs/weighting_functions.c -o build/temp.macosx-10.5-x86_64-2.7/halotools/mock_observables/pair_counters/marked_cpairs/weighting_functions.o\r\n"
       ]
      },
      {
       "output_type": "stream",
       "stream": "stdout",
       "text": [
        "In file included from halotools/mock_observables/pair_counters/marked_cpairs/weighting_functions.c:242:\r\n",
        "In file included from /Users/aphearin/anaconda/lib/python2.7/site-packages/numpy/core/include/numpy/arrayobject.h:4:\r\n",
        "In file included from /Users/aphearin/anaconda/lib/python2.7/site-packages/numpy/core/include/numpy/ndarrayobject.h:17:\r\n",
        "In file included from /Users/aphearin/anaconda/lib/python2.7/site-packages/numpy/core/include/numpy/ndarraytypes.h:1804:\r\n",
        "\u001b[1m/Users/aphearin/anaconda/lib/python2.7/site-packages/numpy/core/include/numpy/npy_1_7_deprecated_api.h:15:2: \u001b[0m\u001b[0;1;35mwarning: \u001b[0m\u001b[1m\r\n",
        "      \"Using deprecated NumPy API, disable it by \"          \"#defining NPY_NO_DEPRECATED_API NPY_1_7_API_VERSION\"\r\n",
        "      [-W#warnings]\u001b[0m\r\n",
        "#warning \"Using deprecated NumPy API, disable it by \" \\\r\n",
        "\u001b[0;1;32m ^\r\n",
        "\u001b[0m"
       ]
      },
      {
       "output_type": "stream",
       "stream": "stdout",
       "text": [
        "In file included from halotools/mock_observables/pair_counters/marked_cpairs/weighting_functions.c:242:\r\n",
        "In file included from /Users/aphearin/anaconda/lib/python2.7/site-packages/numpy/core/include/numpy/arrayobject.h:4:\r\n",
        "In file included from /Users/aphearin/anaconda/lib/python2.7/site-packages/numpy/core/include/numpy/ndarrayobject.h:26:\r\n",
        "\u001b[1m/Users/aphearin/anaconda/lib/python2.7/site-packages/numpy/core/include/numpy/__multiarray_api.h:1629:1: \u001b[0m\u001b[0;1;35mwarning: \u001b[0m\u001b[1m\r\n",
        "      unused function '_import_array' [-Wunused-function]\u001b[0m\r\n",
        "_import_array(void)\r\n",
        "\u001b[0;1;32m^\r\n",
        "\u001b[0mIn file included from halotools/mock_observables/pair_counters/marked_cpairs/weighting_functions.c:243:\r\n",
        "In file included from /Users/aphearin/anaconda/lib/python2.7/site-packages/numpy/core/include/numpy/ufuncobject.h:317:\r\n",
        "\u001b[1m/Users/aphearin/anaconda/lib/python2.7/site-packages/numpy/core/include/numpy/__ufunc_api.h:241:1: \u001b[0m\u001b[0;1;35mwarning: \u001b[0m\u001b[1munused\r\n",
        "      function '_import_umath' [-Wunused-function]\u001b[0m\r\n",
        "_import_umath(void)\r\n",
        "\u001b[0;1;32m^\r\n",
        "\u001b[0m\u001b[1mhalotools/mock_observables/pair_counters/marked_cpairs/weighting_functions.c:5818:28: \u001b[0m\u001b[0;1;35mwarning: \u001b[0m\u001b[1munused function\r\n",
        "      '__Pyx_PyObject_AsString' [-Wunused-function]\u001b[0m\r\n",
        "static CYTHON_INLINE char* __Pyx_PyObject_AsString(PyObject* o) {\r\n",
        "\u001b[0;1;32m                           ^\r\n",
        "\u001b[0m\u001b[1mhalotools/mock_observables/pair_counters/marked_cpairs/weighting_functions.c:5815:32: \u001b[0m\u001b[0;1;35mwarning: \u001b[0m\u001b[1munused function\r\n",
        "      '__Pyx_PyUnicode_FromString' [-Wunused-function]\u001b[0m\r\n",
        "static CYTHON_INLINE PyObject* __Pyx_PyUnicode_FromString(const char* c_str) {\r\n",
        "\u001b[0;1;32m                               ^\r\n",
        "\u001b[0m\u001b[1mhalotools/mock_observables/pair_counters/marked_cpairs/weighting_functions.c:331:29: \u001b[0m\u001b[0;1;35mwarning: \u001b[0m\u001b[1munused function\r\n",
        "      '__Pyx_Py_UNICODE_strlen' [-Wunused-function]\u001b[0m\r\n",
        "static CYTHON_INLINE size_t __Pyx_Py_UNICODE_strlen(const Py_UNICODE *u)\r\n",
        "\u001b[0;1;32m                            ^\r\n",
        "\u001b[0m\u001b[1mhalotools/mock_observables/pair_counters/marked_cpairs/weighting_functions.c:5930:33: \u001b[0m\u001b[0;1;35mwarning: \u001b[0m\u001b[1munused function\r\n",
        "      '__Pyx_PyIndex_AsSsize_t' [-Wunused-function]\u001b[0m\r\n",
        "static CYTHON_INLINE Py_ssize_t __Pyx_PyIndex_AsSsize_t(PyObject* b) {\r\n",
        "\u001b[0;1;32m                                ^\r\n",
        "\u001b[0m\u001b[1mhalotools/mock_observables/pair_counters/marked_cpairs/weighting_functions.c:5992:33: \u001b[0m\u001b[0;1;35mwarning: \u001b[0m\u001b[1munused function\r\n",
        "      '__Pyx_PyInt_FromSize_t' [-Wunused-function]\u001b[0m\r\n",
        "static CYTHON_INLINE PyObject * __Pyx_PyInt_FromSize_t(size_t ival) {\r\n",
        "\u001b[0;1;32m                                ^\r\n",
        "\u001b[0m\u001b[1mhalotools/mock_observables/pair_counters/marked_cpairs/weighting_functions.c:4953:48: \u001b[0m\u001b[0;1;35mwarning: \u001b[0m\u001b[1munused function\r\n",
        "      '__pyx_t_float_complex_from_parts' [-Wunused-function]\u001b[0m\r\n",
        "    static CYTHON_INLINE __pyx_t_float_complex __pyx_t_float_complex_from_parts(float x, float y) {\r\n",
        "\u001b[0;1;32m                                               ^\r\n",
        "\u001b[0m\u001b[1mhalotools/mock_observables/pair_counters/marked_cpairs/weighting_functions.c:4963:30: \u001b[0m\u001b[0;1;35mwarning: \u001b[0m\u001b[1munused function\r\n",
        "      '__Pyx_c_eqf' [-Wunused-function]\u001b[0m\r\n",
        "    static CYTHON_INLINE int __Pyx_c_eqf(__pyx_t_float_complex a, __pyx_t_float_complex b) {\r\n",
        "\u001b[0;1;32m                             ^\r\n",
        "\u001b[0m\u001b[1mhalotools/mock_observables/pair_counters/marked_cpairs/weighting_functions.c:4966:48: \u001b[0m\u001b[0;1;35mwarning: \u001b[0m\u001b[1munused function\r\n",
        "      '__Pyx_c_sumf' [-Wunused-function]\u001b[0m\r\n",
        "    static CYTHON_INLINE __pyx_t_float_complex __Pyx_c_sumf(__pyx_t_float_complex a, __pyx_t_float_complex b) {\r\n",
        "\u001b[0;1;32m                                               ^\r\n",
        "\u001b[0m\u001b[1mhalotools/mock_observables/pair_counters/marked_cpairs/weighting_functions.c:4972:48: \u001b[0m\u001b[0;1;35mwarning: \u001b[0m\u001b[1munused function\r\n",
        "      '__Pyx_c_difff' [-Wunused-function]\u001b[0m\r\n",
        "    static CYTHON_INLINE __pyx_t_float_complex __Pyx_c_difff(__pyx_t_float_complex a, __pyx_t_float_complex b) {\r\n",
        "\u001b[0;1;32m                                               ^\r\n",
        "\u001b[0m\u001b[1mhalotools/mock_observables/pair_counters/marked_cpairs/weighting_functions.c:4984:48: \u001b[0m\u001b[0;1;35mwarning: \u001b[0m\u001b[1munused function\r\n",
        "      '__Pyx_c_quotf' [-Wunused-function]\u001b[0m\r\n",
        "    static CYTHON_INLINE __pyx_t_float_complex __Pyx_c_quotf(__pyx_t_float_complex a, __pyx_t_float_complex b) {\r\n",
        "\u001b[0;1;32m                                               ^\r\n",
        "\u001b[0m\u001b[1mhalotools/mock_observables/pair_counters/marked_cpairs/weighting_functions.c:4991:48: \u001b[0m\u001b[0;1;35mwarning: \u001b[0m\u001b[1munused function\r\n",
        "      '__Pyx_c_negf' [-Wunused-function]\u001b[0m\r\n",
        "    static CYTHON_INLINE __pyx_t_float_complex __Pyx_c_negf(__pyx_t_float_complex a) {\r\n",
        "\u001b[0;1;32m                                               ^\r\n",
        "\u001b[0m\u001b[1mhalotools/mock_observables/pair_counters/marked_cpairs/weighting_functions.c:4997:30: \u001b[0m\u001b[0;1;35mwarning: \u001b[0m\u001b[1munused function\r\n",
        "      '__Pyx_c_is_zerof' [-Wunused-function]\u001b[0m\r\n",
        "    static CYTHON_INLINE int __Pyx_c_is_zerof(__pyx_t_float_complex a) {\r\n",
        "\u001b[0;1;32m                             ^\r\n",
        "\u001b[0m\u001b[1mhalotools/mock_observables/pair_counters/marked_cpairs/weighting_functions.c:5000:48: \u001b[0m\u001b[0;1;35mwarning: \u001b[0m\u001b[1munused function\r\n",
        "      '__Pyx_c_conjf' [-Wunused-function]\u001b[0m\r\n",
        "    static CYTHON_INLINE __pyx_t_float_complex __Pyx_c_conjf(__pyx_t_float_complex a) {\r\n",
        "\u001b[0;1;32m                                               ^\r\n",
        "\u001b[0m\u001b[1mhalotools/mock_observables/pair_counters/marked_cpairs/weighting_functions.c:5014:52: \u001b[0m\u001b[0;1;35mwarning: \u001b[0m\u001b[1munused function\r\n",
        "      '__Pyx_c_powf' [-Wunused-function]\u001b[0m\r\n",
        "        static CYTHON_INLINE __pyx_t_float_complex __Pyx_c_powf(__pyx_t_float_complex a, __pyx_t_float_complex b) {\r\n",
        "\u001b[0;1;32m                                                   ^\r\n",
        "\u001b[0m\u001b[1mhalotools/mock_observables/pair_counters/marked_cpairs/weighting_functions.c:5073:49: \u001b[0m\u001b[0;1;35mwarning: \u001b[0m\u001b[1munused function\r\n",
        "      '__pyx_t_double_complex_from_parts' [-Wunused-function]\u001b[0m\r\n",
        "    static CYTHON_INLINE __pyx_t_double_complex __pyx_t_double_complex_from_parts(double x, double y) {\r\n",
        "\u001b[0;1;32m                                                ^\r\n",
        "\u001b[0m\u001b[1mhalotools/mock_observables/pair_counters/marked_cpairs/weighting_functions.c:5083:30: \u001b[0m\u001b[0;1;35mwarning: \u001b[0m\u001b[1munused function\r\n",
        "      '__Pyx_c_eq' [-Wunused-function]\u001b[0m\r\n",
        "    static CYTHON_INLINE int __Pyx_c_eq(__pyx_t_double_complex a, __pyx_t_double_complex b) {\r\n",
        "\u001b[0;1;32m                             ^\r\n",
        "\u001b[0m\u001b[1mhalotools/mock_observables/pair_counters/marked_cpairs/weighting_functions.c:5086:49: \u001b[0m\u001b[0;1;35mwarning: \u001b[0m\u001b[1munused function\r\n",
        "      '__Pyx_c_sum' [-Wunused-function]\u001b[0m\r\n",
        "    static CYTHON_INLINE __pyx_t_double_complex __Pyx_c_sum(__pyx_t_double_complex a, __pyx_t_double_complex b) {\r\n",
        "\u001b[0;1;32m                                                ^\r\n",
        "\u001b[0m\u001b[1mhalotools/mock_observables/pair_counters/marked_cpairs/weighting_functions.c:5092:49: \u001b[0m\u001b[0;1;35mwarning: \u001b[0m\u001b[1munused function\r\n",
        "      '__Pyx_c_diff' [-Wunused-function]\u001b[0m\r\n",
        "    static CYTHON_INLINE __pyx_t_double_complex __Pyx_c_diff(__pyx_t_double_complex a, __pyx_t_double_complex b) {\r\n",
        "\u001b[0;1;32m                                                ^\r\n",
        "\u001b[0m\u001b[1mhalotools/mock_observables/pair_counters/marked_cpairs/weighting_functions.c:5104:49: \u001b[0m\u001b[0;1;35mwarning: \u001b[0m\u001b[1munused function\r\n",
        "      '__Pyx_c_quot' [-Wunused-function]\u001b[0m\r\n",
        "    static CYTHON_INLINE __pyx_t_double_complex __Pyx_c_quot(__pyx_t_double_complex a, __pyx_t_double_complex b) {\r\n",
        "\u001b[0;1;32m                                                ^\r\n",
        "\u001b[0m\u001b[1mhalotools/mock_observables/pair_counters/marked_cpairs/weighting_functions.c:5111:49: \u001b[0m\u001b[0;1;35mwarning: \u001b[0m\u001b[1munused function\r\n",
        "      '__Pyx_c_neg' [-Wunused-function]\u001b[0m\r\n",
        "    static CYTHON_INLINE __pyx_t_double_complex __Pyx_c_neg(__pyx_t_double_complex a) {\r\n",
        "\u001b[0;1;32m                                                ^\r\n",
        "\u001b[0m\u001b[1mhalotools/mock_observables/pair_counters/marked_cpairs/weighting_functions.c:5117:30: \u001b[0m\u001b[0;1;35mwarning: \u001b[0m\u001b[1munused function\r\n",
        "      '__Pyx_c_is_zero' [-Wunused-function]\u001b[0m\r\n",
        "    static CYTHON_INLINE int __Pyx_c_is_zero(__pyx_t_double_complex a) {\r\n",
        "\u001b[0;1;32m                             ^\r\n",
        "\u001b[0m\u001b[1mhalotools/mock_observables/pair_counters/marked_cpairs/weighting_functions.c:5120:49: \u001b[0m\u001b[0;1;35mwarning: \u001b[0m\u001b[1munused function\r\n",
        "      '__Pyx_c_conj' [-Wunused-function]\u001b[0m\r\n",
        "    static CYTHON_INLINE __pyx_t_double_complex __Pyx_c_conj(__pyx_t_double_complex a) {\r\n",
        "\u001b[0;1;32m                                                ^\r\n",
        "\u001b[0m\u001b[1mhalotools/mock_observables/pair_counters/marked_cpairs/weighting_functions.c:5134:53: \u001b[0m\u001b[0;1;35mwarning: \u001b[0m\u001b[1munused function\r\n",
        "      '__Pyx_c_pow' [-Wunused-function]\u001b[0m\r\n",
        "        static CYTHON_INLINE __pyx_t_double_complex __Pyx_c_pow(__pyx_t_double_complex a, __pyx_t_double_complex b) {\r\n",
        "\u001b[0;1;32m                                                    ^\r\n",
        "\u001b[0m\u001b[1mhalotools/mock_observables/pair_counters/marked_cpairs/weighting_functions.c:5443:32: \u001b[0m\u001b[0;1;35mwarning: \u001b[0m\u001b[1munused function\r\n",
        "      '__Pyx_PyInt_From_long' [-Wunused-function]\u001b[0m\r\n",
        "static CYTHON_INLINE PyObject* __Pyx_PyInt_From_long(long value) {\r\n",
        "\u001b[0;1;32m                               ^\r\n",
        "\u001b[0m\u001b[1mhalotools/mock_observables/pair_counters/marked_cpairs/weighting_functions.c:5469:27: \u001b[0m\u001b[0;1;35mwarning: \u001b[0m\u001b[1mfunction\r\n",
        "      '__Pyx_PyInt_As_long' is not needed and will not be emitted [-Wunneeded-internal-declaration]\u001b[0m\r\n",
        "static CYTHON_INLINE long __Pyx_PyInt_As_long(PyObject *x) {\r\n",
        "\u001b[0;1;32m                          ^\r\n",
        "\u001b[0m\u001b[1mhalotools/mock_observables/pair_counters/marked_cpairs/weighting_functions.c:2907:32: \u001b[0m\u001b[0;1;35mwarning: \u001b[0m\u001b[1munused function\r\n",
        "      '__pyx_f_5numpy_PyArray_MultiIterNew1' [-Wunused-function]\u001b[0m\r\n",
        "static CYTHON_INLINE PyObject *__pyx_f_5numpy_PyArray_MultiIterNew1(PyObject *__pyx_v_a) {\r\n",
        "\u001b[0;1;32m                               ^\r\n",
        "\u001b[0m\u001b[1mhalotools/mock_observables/pair_counters/marked_cpairs/weighting_functions.c:2957:32: \u001b[0m\u001b[0;1;35mwarning: \u001b[0m\u001b[1munused function\r\n",
        "      '__pyx_f_5numpy_PyArray_MultiIterNew2' [-Wunused-function]\u001b[0m\r\n",
        "static CYTHON_INLINE PyObject *__pyx_f_5numpy_PyArray_MultiIterNew2(PyObject *__pyx_v_a, PyObject *__pyx_v_b) {\r\n",
        "\u001b[0;1;32m                               ^\r\n",
        "\u001b[0m\u001b[1mhalotools/mock_observables/pair_counters/marked_cpairs/weighting_functions.c:3007:32: \u001b[0m\u001b[0;1;35mwarning: \u001b[0m\u001b[1munused function\r\n",
        "      '__pyx_f_5numpy_PyArray_MultiIterNew3' [-Wunused-function]\u001b[0m\r\n",
        "static CYTHON_INLINE PyObject *__pyx_f_5numpy_PyArray_MultiIterNew3(PyObject *__pyx_v_a, PyObject *__pyx_v_b, Py...\r\n",
        "\u001b[0;1;32m                               ^\r\n",
        "\u001b[0m\u001b[1mhalotools/mock_observables/pair_counters/marked_cpairs/weighting_functions.c:3057:32: \u001b[0m\u001b[0;1;35mwarning: \u001b[0m\u001b[1munused function\r\n",
        "      '__pyx_f_5numpy_PyArray_MultiIterNew4' [-Wunused-function]\u001b[0m\r\n",
        "static CYTHON_INLINE PyObject *__pyx_f_5numpy_PyArray_MultiIterNew4(PyObject *__pyx_v_a, PyObject *__pyx_v_b, Py...\r\n",
        "\u001b[0;1;32m                               ^\r\n",
        "\u001b[0m\u001b[1mhalotools/mock_observables/pair_counters/marked_cpairs/weighting_functions.c:3107:32: \u001b[0m\u001b[0;1;35mwarning: \u001b[0m\u001b[1munused function\r\n",
        "      '__pyx_f_5numpy_PyArray_MultiIterNew5' [-Wunused-function]\u001b[0m\r\n",
        "static CYTHON_INLINE PyObject *__pyx_f_5numpy_PyArray_MultiIterNew5(PyObject *__pyx_v_a, PyObject *__pyx_v_b, Py...\r\n",
        "\u001b[0;1;32m                               ^\r\n",
        "\u001b[0m\u001b[1mhalotools/mock_observables/pair_counters/marked_cpairs/weighting_functions.c:3915:27: \u001b[0m\u001b[0;1;35mwarning: \u001b[0m\u001b[1munused function\r\n",
        "      '__pyx_f_5numpy_set_array_base' [-Wunused-function]\u001b[0m\r\n",
        "static CYTHON_INLINE void __pyx_f_5numpy_set_array_base(PyArrayObject *__pyx_v_arr, PyObject *__pyx_v_base) {\r\n",
        "\u001b[0;1;32m                          ^\r\n",
        "\u001b[0m\u001b[1mhalotools/mock_observables/pair_counters/marked_cpairs/weighting_functions.c:4011:32: \u001b[0m\u001b[0;1;35mwarning: \u001b[0m\u001b[1munused function\r\n",
        "      '__pyx_f_5numpy_get_array_base' [-Wunused-function]\u001b[0m\r\n",
        "static CYTHON_INLINE PyObject *__pyx_f_5numpy_get_array_base(PyArrayObject *__pyx_v_arr) {\r\n",
        "\u001b[0;1;32m                               ^\r\n",
        "\u001b[0m"
       ]
      },
      {
       "output_type": "stream",
       "stream": "stdout",
       "text": [
        "35 warnings generated.\r\n",
        "gcc -bundle -undefined dynamic_lookup -L/Users/aphearin/anaconda/lib -arch x86_64 -arch x86_64 build/temp.macosx-10.5-x86_64-2.7/halotools/mock_observables/pair_counters/marked_cpairs/weighting_functions.o -L/Users/aphearin/anaconda/lib -o build/lib.macosx-10.5-x86_64-2.7/halotools/mock_observables/pair_counters/marked_cpairs/weighting_functions.so\r\n",
        "cythoning halotools/mock_observables/pair_counters/marked_cpairs/custom_weighting_func.pyx to halotools/mock_observables/pair_counters/marked_cpairs/custom_weighting_func.c\r\n"
       ]
      },
      {
       "output_type": "stream",
       "stream": "stdout",
       "text": [
        "building 'halotools.mock_observables.pair_counters.marked_cpairs.custom_weighting_func' extension\r\n",
        "gcc -fno-strict-aliasing -I/Users/aphearin/anaconda/include -arch x86_64 -DNDEBUG -g -fwrapv -O3 -Wall -Wstrict-prototypes -I/Users/aphearin/anaconda/lib/python2.7/site-packages/numpy/core/include -I/Users/aphearin/anaconda/include/python2.7 -c halotools/mock_observables/pair_counters/marked_cpairs/custom_weighting_func.c -o build/temp.macosx-10.5-x86_64-2.7/halotools/mock_observables/pair_counters/marked_cpairs/custom_weighting_func.o\r\n"
       ]
      },
      {
       "output_type": "stream",
       "stream": "stdout",
       "text": [
        "In file included from halotools/mock_observables/pair_counters/marked_cpairs/custom_weighting_func.c:242:\r\n",
        "In file included from /Users/aphearin/anaconda/lib/python2.7/site-packages/numpy/core/include/numpy/arrayobject.h:4:\r\n",
        "In file included from /Users/aphearin/anaconda/lib/python2.7/site-packages/numpy/core/include/numpy/ndarrayobject.h:17:\r\n",
        "In file included from /Users/aphearin/anaconda/lib/python2.7/site-packages/numpy/core/include/numpy/ndarraytypes.h:1804:\r\n",
        "\u001b[1m/Users/aphearin/anaconda/lib/python2.7/site-packages/numpy/core/include/numpy/npy_1_7_deprecated_api.h:15:2: \u001b[0m\u001b[0;1;35mwarning: \u001b[0m\u001b[1m\r\n",
        "      \"Using deprecated NumPy API, disable it by \"          \"#defining NPY_NO_DEPRECATED_API NPY_1_7_API_VERSION\"\r\n",
        "      [-W#warnings]\u001b[0m\r\n",
        "#warning \"Using deprecated NumPy API, disable it by \" \\\r\n",
        "\u001b[0;1;32m ^\r\n",
        "\u001b[0m"
       ]
      },
      {
       "output_type": "stream",
       "stream": "stdout",
       "text": [
        "In file included from halotools/mock_observables/pair_counters/marked_cpairs/custom_weighting_func.c:242:\r\n",
        "In file included from /Users/aphearin/anaconda/lib/python2.7/site-packages/numpy/core/include/numpy/arrayobject.h:4:\r\n",
        "In file included from /Users/aphearin/anaconda/lib/python2.7/site-packages/numpy/core/include/numpy/ndarrayobject.h:26:\r\n",
        "\u001b[1m/Users/aphearin/anaconda/lib/python2.7/site-packages/numpy/core/include/numpy/__multiarray_api.h:1629:1: \u001b[0m\u001b[0;1;35mwarning: \u001b[0m\u001b[1m\r\n",
        "      unused function '_import_array' [-Wunused-function]\u001b[0m\r\n",
        "_import_array(void)\r\n",
        "\u001b[0;1;32m^\r\n",
        "\u001b[0mIn file included from halotools/mock_observables/pair_counters/marked_cpairs/custom_weighting_func.c:243:\r\n",
        "In file included from /Users/aphearin/anaconda/lib/python2.7/site-packages/numpy/core/include/numpy/ufuncobject.h:317:\r\n",
        "\u001b[1m/Users/aphearin/anaconda/lib/python2.7/site-packages/numpy/core/include/numpy/__ufunc_api.h:241:1: \u001b[0m\u001b[0;1;35mwarning: \u001b[0m\u001b[1munused\r\n",
        "      function '_import_umath' [-Wunused-function]\u001b[0m\r\n",
        "_import_umath(void)\r\n",
        "\u001b[0;1;32m^\r\n",
        "\u001b[0m\u001b[1mhalotools/mock_observables/pair_counters/marked_cpairs/custom_weighting_func.c:4966:28: \u001b[0m\u001b[0;1;35mwarning: \u001b[0m\u001b[1munused function\r\n",
        "      '__Pyx_PyObject_AsString' [-Wunused-function]\u001b[0m\r\n",
        "static CYTHON_INLINE char* __Pyx_PyObject_AsString(PyObject* o) {\r\n",
        "\u001b[0;1;32m                           ^\r\n",
        "\u001b[0m\u001b[1mhalotools/mock_observables/pair_counters/marked_cpairs/custom_weighting_func.c:4963:32: \u001b[0m\u001b[0;1;35mwarning: \u001b[0m\u001b[1munused function\r\n",
        "      '__Pyx_PyUnicode_FromString' [-Wunused-function]\u001b[0m\r\n",
        "static CYTHON_INLINE PyObject* __Pyx_PyUnicode_FromString(const char* c_str) {\r\n",
        "\u001b[0;1;32m                               ^\r\n",
        "\u001b[0m\u001b[1mhalotools/mock_observables/pair_counters/marked_cpairs/custom_weighting_func.c:331:29: \u001b[0m\u001b[0;1;35mwarning: \u001b[0m\u001b[1munused function\r\n",
        "      '__Pyx_Py_UNICODE_strlen' [-Wunused-function]\u001b[0m\r\n",
        "static CYTHON_INLINE size_t __Pyx_Py_UNICODE_strlen(const Py_UNICODE *u)\r\n",
        "\u001b[0;1;32m                            ^\r\n",
        "\u001b[0m\u001b[1mhalotools/mock_observables/pair_counters/marked_cpairs/custom_weighting_func.c:5078:33: \u001b[0m\u001b[0;1;35mwarning: \u001b[0m\u001b[1munused function\r\n",
        "      '__Pyx_PyIndex_AsSsize_t' [-Wunused-function]\u001b[0m\r\n",
        "static CYTHON_INLINE Py_ssize_t __Pyx_PyIndex_AsSsize_t(PyObject* b) {\r\n",
        "\u001b[0;1;32m                                ^\r\n",
        "\u001b[0m\u001b[1mhalotools/mock_observables/pair_counters/marked_cpairs/custom_weighting_func.c:5140:33: \u001b[0m\u001b[0;1;35mwarning: \u001b[0m\u001b[1munused function\r\n",
        "      '__Pyx_PyInt_FromSize_t' [-Wunused-function]\u001b[0m\r\n",
        "static CYTHON_INLINE PyObject * __Pyx_PyInt_FromSize_t(size_t ival) {\r\n",
        "\u001b[0;1;32m                                ^\r\n",
        "\u001b[0m\u001b[1mhalotools/mock_observables/pair_counters/marked_cpairs/custom_weighting_func.c:3657:27: \u001b[0m\u001b[0;1;35mwarning: \u001b[0m\u001b[1munused function\r\n",
        "      '__Pyx_ErrFetch' [-Wunused-function]\u001b[0m\r\n",
        "static CYTHON_INLINE void __Pyx_ErrFetch(PyObject **type, PyObject **value, PyObject **tb) {\r\n",
        "\u001b[0;1;32m                          ^\r\n",
        "\u001b[0m\u001b[1mhalotools/mock_observables/pair_counters/marked_cpairs/custom_weighting_func.c:4101:48: \u001b[0m\u001b[0;1;35mwarning: \u001b[0m\u001b[1munused function\r\n",
        "      '__pyx_t_float_complex_from_parts' [-Wunused-function]\u001b[0m\r\n",
        "    static CYTHON_INLINE __pyx_t_float_complex __pyx_t_float_complex_from_parts(float x, float y) {\r\n",
        "\u001b[0;1;32m                                               ^\r\n",
        "\u001b[0m\u001b[1mhalotools/mock_observables/pair_counters/marked_cpairs/custom_weighting_func.c:4111:30: \u001b[0m\u001b[0;1;35mwarning: \u001b[0m\u001b[1munused function\r\n",
        "      '__Pyx_c_eqf' [-Wunused-function]\u001b[0m\r\n",
        "    static CYTHON_INLINE int __Pyx_c_eqf(__pyx_t_float_complex a, __pyx_t_float_complex b) {\r\n",
        "\u001b[0;1;32m                             ^\r\n",
        "\u001b[0m\u001b[1mhalotools/mock_observables/pair_counters/marked_cpairs/custom_weighting_func.c:4114:48: \u001b[0m\u001b[0;1;35mwarning: \u001b[0m\u001b[1munused function\r\n",
        "      '__Pyx_c_sumf' [-Wunused-function]\u001b[0m\r\n",
        "    static CYTHON_INLINE __pyx_t_float_complex __Pyx_c_sumf(__pyx_t_float_complex a, __pyx_t_float_complex b) {\r\n",
        "\u001b[0;1;32m                                               ^\r\n",
        "\u001b[0m\u001b[1mhalotools/mock_observables/pair_counters/marked_cpairs/custom_weighting_func.c:4120:48: \u001b[0m\u001b[0;1;35mwarning: \u001b[0m\u001b[1munused function\r\n",
        "      '__Pyx_c_difff' [-Wunused-function]\u001b[0m\r\n",
        "    static CYTHON_INLINE __pyx_t_float_complex __Pyx_c_difff(__pyx_t_float_complex a, __pyx_t_float_complex b) {\r\n",
        "\u001b[0;1;32m                                               ^\r\n",
        "\u001b[0m\u001b[1mhalotools/mock_observables/pair_counters/marked_cpairs/custom_weighting_func.c:4132:48: \u001b[0m\u001b[0;1;35mwarning: \u001b[0m\u001b[1munused function\r\n",
        "      '__Pyx_c_quotf' [-Wunused-function]\u001b[0m\r\n",
        "    static CYTHON_INLINE __pyx_t_float_complex __Pyx_c_quotf(__pyx_t_float_complex a, __pyx_t_float_complex b) {\r\n",
        "\u001b[0;1;32m                                               ^\r\n",
        "\u001b[0m\u001b[1mhalotools/mock_observables/pair_counters/marked_cpairs/custom_weighting_func.c:4139:48: \u001b[0m\u001b[0;1;35mwarning: \u001b[0m\u001b[1munused function\r\n",
        "      '__Pyx_c_negf' [-Wunused-function]\u001b[0m\r\n",
        "    static CYTHON_INLINE __pyx_t_float_complex __Pyx_c_negf(__pyx_t_float_complex a) {\r\n",
        "\u001b[0;1;32m                                               ^\r\n",
        "\u001b[0m\u001b[1mhalotools/mock_observables/pair_counters/marked_cpairs/custom_weighting_func.c:4145:30: \u001b[0m\u001b[0;1;35mwarning: \u001b[0m\u001b[1munused function\r\n",
        "      '__Pyx_c_is_zerof' [-Wunused-function]\u001b[0m\r\n",
        "    static CYTHON_INLINE int __Pyx_c_is_zerof(__pyx_t_float_complex a) {\r\n",
        "\u001b[0;1;32m                             ^\r\n",
        "\u001b[0m\u001b[1mhalotools/mock_observables/pair_counters/marked_cpairs/custom_weighting_func.c:4148:48: \u001b[0m\u001b[0;1;35mwarning: \u001b[0m\u001b[1munused function\r\n",
        "      '__Pyx_c_conjf' [-Wunused-function]\u001b[0m\r\n",
        "    static CYTHON_INLINE __pyx_t_float_complex __Pyx_c_conjf(__pyx_t_float_complex a) {\r\n",
        "\u001b[0;1;32m                                               ^\r\n",
        "\u001b[0m\u001b[1mhalotools/mock_observables/pair_counters/marked_cpairs/custom_weighting_func.c:4162:52: \u001b[0m\u001b[0;1;35mwarning: \u001b[0m\u001b[1munused function\r\n",
        "      '__Pyx_c_powf' [-Wunused-function]\u001b[0m\r\n",
        "        static CYTHON_INLINE __pyx_t_float_complex __Pyx_c_powf(__pyx_t_float_complex a, __pyx_t_float_complex b) {\r\n",
        "\u001b[0;1;32m                                                   ^\r\n",
        "\u001b[0m\u001b[1mhalotools/mock_observables/pair_counters/marked_cpairs/custom_weighting_func.c:4221:49: \u001b[0m\u001b[0;1;35mwarning: \u001b[0m\u001b[1munused function\r\n",
        "      '__pyx_t_double_complex_from_parts' [-Wunused-function]\u001b[0m\r\n",
        "    static CYTHON_INLINE __pyx_t_double_complex __pyx_t_double_complex_from_parts(double x, double y) {\r\n",
        "\u001b[0;1;32m                                                ^\r\n",
        "\u001b[0m\u001b[1mhalotools/mock_observables/pair_counters/marked_cpairs/custom_weighting_func.c:4231:30: \u001b[0m\u001b[0;1;35mwarning: \u001b[0m\u001b[1munused function\r\n",
        "      '__Pyx_c_eq' [-Wunused-function]\u001b[0m\r\n",
        "    static CYTHON_INLINE int __Pyx_c_eq(__pyx_t_double_complex a, __pyx_t_double_complex b) {\r\n",
        "\u001b[0;1;32m                             ^\r\n",
        "\u001b[0m\u001b[1mhalotools/mock_observables/pair_counters/marked_cpairs/custom_weighting_func.c:4234:49: \u001b[0m\u001b[0;1;35mwarning: \u001b[0m\u001b[1munused function\r\n",
        "      '__Pyx_c_sum' [-Wunused-function]\u001b[0m\r\n",
        "    static CYTHON_INLINE __pyx_t_double_complex __Pyx_c_sum(__pyx_t_double_complex a, __pyx_t_double_complex b) {\r\n",
        "\u001b[0;1;32m                                                ^\r\n",
        "\u001b[0m\u001b[1mhalotools/mock_observables/pair_counters/marked_cpairs/custom_weighting_func.c:4240:49: \u001b[0m\u001b[0;1;35mwarning: \u001b[0m\u001b[1munused function\r\n",
        "      '__Pyx_c_diff' [-Wunused-function]\u001b[0m\r\n",
        "    static CYTHON_INLINE __pyx_t_double_complex __Pyx_c_diff(__pyx_t_double_complex a, __pyx_t_double_complex b) {\r\n",
        "\u001b[0;1;32m                                                ^\r\n",
        "\u001b[0m\u001b[1mhalotools/mock_observables/pair_counters/marked_cpairs/custom_weighting_func.c:4252:49: \u001b[0m\u001b[0;1;35mwarning: \u001b[0m\u001b[1munused function\r\n",
        "      '__Pyx_c_quot' [-Wunused-function]\u001b[0m\r\n",
        "    static CYTHON_INLINE __pyx_t_double_complex __Pyx_c_quot(__pyx_t_double_complex a, __pyx_t_double_complex b) {\r\n",
        "\u001b[0;1;32m                                                ^\r\n",
        "\u001b[0m\u001b[1mhalotools/mock_observables/pair_counters/marked_cpairs/custom_weighting_func.c:4259:49: \u001b[0m\u001b[0;1;35mwarning: \u001b[0m\u001b[1munused function\r\n",
        "      '__Pyx_c_neg' [-Wunused-function]\u001b[0m\r\n",
        "    static CYTHON_INLINE __pyx_t_double_complex __Pyx_c_neg(__pyx_t_double_complex a) {\r\n",
        "\u001b[0;1;32m                                                ^\r\n",
        "\u001b[0m\u001b[1mhalotools/mock_observables/pair_counters/marked_cpairs/custom_weighting_func.c:4265:30: \u001b[0m\u001b[0;1;35mwarning: \u001b[0m\u001b[1munused function\r\n",
        "      '__Pyx_c_is_zero' [-Wunused-function]\u001b[0m\r\n",
        "    static CYTHON_INLINE int __Pyx_c_is_zero(__pyx_t_double_complex a) {\r\n",
        "\u001b[0;1;32m                             ^\r\n",
        "\u001b[0m\u001b[1mhalotools/mock_observables/pair_counters/marked_cpairs/custom_weighting_func.c:4268:49: \u001b[0m\u001b[0;1;35mwarning: \u001b[0m\u001b[1munused function\r\n",
        "      '__Pyx_c_conj' [-Wunused-function]\u001b[0m\r\n",
        "    static CYTHON_INLINE __pyx_t_double_complex __Pyx_c_conj(__pyx_t_double_complex a) {\r\n",
        "\u001b[0;1;32m                                                ^\r\n",
        "\u001b[0m\u001b[1mhalotools/mock_observables/pair_counters/marked_cpairs/custom_weighting_func.c:4282:53: \u001b[0m\u001b[0;1;35mwarning: \u001b[0m\u001b[1munused function\r\n",
        "      '__Pyx_c_pow' [-Wunused-function]\u001b[0m\r\n",
        "        static CYTHON_INLINE __pyx_t_double_complex __Pyx_c_pow(__pyx_t_double_complex a, __pyx_t_double_complex b) {\r\n",
        "\u001b[0;1;32m                                                    ^\r\n",
        "\u001b[0m\u001b[1mhalotools/mock_observables/pair_counters/marked_cpairs/custom_weighting_func.c:4591:32: \u001b[0m\u001b[0;1;35mwarning: \u001b[0m\u001b[1munused function\r\n",
        "      '__Pyx_PyInt_From_long' [-Wunused-function]\u001b[0m\r\n",
        "static CYTHON_INLINE PyObject* __Pyx_PyInt_From_long(long value) {\r\n",
        "\u001b[0;1;32m                               ^\r\n",
        "\u001b[0m\u001b[1mhalotools/mock_observables/pair_counters/marked_cpairs/custom_weighting_func.c:4617:27: \u001b[0m\u001b[0;1;35mwarning: \u001b[0m\u001b[1mfunction\r\n",
        "      '__Pyx_PyInt_As_long' is not needed and will not be emitted [-Wunneeded-internal-declaration]\u001b[0m\r\n",
        "static CYTHON_INLINE long __Pyx_PyInt_As_long(PyObject *x) {\r\n",
        "\u001b[0;1;32m                          ^\r\n",
        "\u001b[0m\u001b[1mhalotools/mock_observables/pair_counters/marked_cpairs/custom_weighting_func.c:2103:32: \u001b[0m\u001b[0;1;35mwarning: \u001b[0m\u001b[1munused function\r\n",
        "      '__pyx_f_5numpy_PyArray_MultiIterNew1' [-Wunused-function]\u001b[0m\r\n",
        "static CYTHON_INLINE PyObject *__pyx_f_5numpy_PyArray_MultiIterNew1(PyObject *__pyx_v_a) {\r\n",
        "\u001b[0;1;32m                               ^\r\n",
        "\u001b[0m\u001b[1mhalotools/mock_observables/pair_counters/marked_cpairs/custom_weighting_func.c:2153:32: \u001b[0m\u001b[0;1;35mwarning: \u001b[0m\u001b[1munused function\r\n",
        "      '__pyx_f_5numpy_PyArray_MultiIterNew2' [-Wunused-function]\u001b[0m\r\n",
        "static CYTHON_INLINE PyObject *__pyx_f_5numpy_PyArray_MultiIterNew2(PyObject *__pyx_v_a, PyObject *__pyx_v_b) {\r\n",
        "\u001b[0;1;32m                               ^\r\n",
        "\u001b[0m\u001b[1mhalotools/mock_observables/pair_counters/marked_cpairs/custom_weighting_func.c:2203:32: \u001b[0m\u001b[0;1;35mwarning: \u001b[0m\u001b[1munused function\r\n",
        "      '__pyx_f_5numpy_PyArray_MultiIterNew3' [-Wunused-function]\u001b[0m\r\n",
        "static CYTHON_INLINE PyObject *__pyx_f_5numpy_PyArray_MultiIterNew3(PyObject *__pyx_v_a, PyObject *__pyx_v_b, Py...\r\n",
        "\u001b[0;1;32m                               ^\r\n",
        "\u001b[0m\u001b[1mhalotools/mock_observables/pair_counters/marked_cpairs/custom_weighting_func.c:2253:32: \u001b[0m\u001b[0;1;35mwarning: \u001b[0m\u001b[1munused function\r\n",
        "      '__pyx_f_5numpy_PyArray_MultiIterNew4' [-Wunused-function]\u001b[0m\r\n",
        "static CYTHON_INLINE PyObject *__pyx_f_5numpy_PyArray_MultiIterNew4(PyObject *__pyx_v_a, PyObject *__pyx_v_b, Py...\r\n",
        "\u001b[0;1;32m                               ^\r\n",
        "\u001b[0m\u001b[1mhalotools/mock_observables/pair_counters/marked_cpairs/custom_weighting_func.c:2303:32: \u001b[0m\u001b[0;1;35mwarning: \u001b[0m\u001b[1munused function\r\n",
        "      '__pyx_f_5numpy_PyArray_MultiIterNew5' [-Wunused-function]\u001b[0m\r\n",
        "static CYTHON_INLINE PyObject *__pyx_f_5numpy_PyArray_MultiIterNew5(PyObject *__pyx_v_a, PyObject *__pyx_v_b, Py...\r\n",
        "\u001b[0;1;32m                               ^\r\n",
        "\u001b[0m\u001b[1mhalotools/mock_observables/pair_counters/marked_cpairs/custom_weighting_func.c:3111:27: \u001b[0m\u001b[0;1;35mwarning: \u001b[0m\u001b[1munused function\r\n",
        "      '__pyx_f_5numpy_set_array_base' [-Wunused-function]\u001b[0m\r\n",
        "static CYTHON_INLINE void __pyx_f_5numpy_set_array_base(PyArrayObject *__pyx_v_arr, PyObject *__pyx_v_base) {\r\n",
        "\u001b[0;1;32m                          ^\r\n",
        "\u001b[0m\u001b[1mhalotools/mock_observables/pair_counters/marked_cpairs/custom_weighting_func.c:3207:32: \u001b[0m\u001b[0;1;35mwarning: \u001b[0m\u001b[1munused function\r\n",
        "      '__pyx_f_5numpy_get_array_base' [-Wunused-function]\u001b[0m\r\n",
        "static CYTHON_INLINE PyObject *__pyx_f_5numpy_get_array_base(PyArrayObject *__pyx_v_arr) {\r\n",
        "\u001b[0;1;32m                               ^\r\n",
        "\u001b[0m"
       ]
      },
      {
       "output_type": "stream",
       "stream": "stdout",
       "text": [
        "36 warnings generated.\r\n",
        "gcc -bundle -undefined dynamic_lookup -L/Users/aphearin/anaconda/lib -arch x86_64 -arch x86_64 build/temp.macosx-10.5-x86_64-2.7/halotools/mock_observables/pair_counters/marked_cpairs/custom_weighting_func.o -L/Users/aphearin/anaconda/lib -o build/lib.macosx-10.5-x86_64-2.7/halotools/mock_observables/pair_counters/marked_cpairs/custom_weighting_func.so\r\n"
       ]
      },
      {
       "output_type": "stream",
       "stream": "stdout",
       "text": [
        "copying halotools/cython_version.py -> build/lib.macosx-10.5-x86_64-2.7/halotools\r\n",
        "running build_scripts\r\n",
        "creating build/scripts-2.7\r\n",
        "copying and adjusting scripts/convert_documentation_tutorials.py -> build/scripts-2.7\r\n",
        "copying and adjusting scripts/create_halotools_alpha_catalogs.py -> build/scripts-2.7\r\n",
        "copying and adjusting scripts/download_alternate_halocats.py -> build/scripts-2.7\r\n",
        "copying and adjusting scripts/download_initial_halocat.py -> build/scripts-2.7\r\n",
        "changing mode of build/scripts-2.7/convert_documentation_tutorials.py from 644 to 755\r\n",
        "changing mode of build/scripts-2.7/create_halotools_alpha_catalogs.py from 644 to 755\r\n",
        "changing mode of build/scripts-2.7/download_alternate_halocats.py from 644 to 755\r\n",
        "changing mode of build/scripts-2.7/download_initial_halocat.py from 644 to 755\r\n"
       ]
      }
     ],
     "prompt_number": 7
    },
    {
     "cell_type": "code",
     "collapsed": false,
     "input": [
      "cd .."
     ],
     "language": "python",
     "metadata": {},
     "outputs": [
      {
       "output_type": "stream",
       "stream": "stdout",
       "text": [
        "/Users/aphearin/work/random/1210/testing/decorated-hod-paper\n"
       ]
      }
     ],
     "prompt_number": 8
    },
    {
     "cell_type": "code",
     "collapsed": false,
     "input": [
      "import os\n",
      "import sys\n",
      "\n",
      "builddirs = os.listdir(os.path.join('halotools', 'build'))\n",
      "for dir in builddirs:\n",
      "    smallversion  = '.'.join(sys.version.split()[0].split('.')[:-1])\n",
      "    if dir.startswith('lib') and smallversion in dir:\n",
      "        libdir = os.path.join('halotools', 'build', dir)\n",
      "        break\n",
      "    \n",
      "sys.path.insert(0, libdir)"
     ],
     "language": "python",
     "metadata": {},
     "outputs": [],
     "prompt_number": 9
    },
    {
     "cell_type": "markdown",
     "metadata": {},
     "source": [
      "## Download the halo catalog"
     ]
    },
    {
     "cell_type": "markdown",
     "metadata": {},
     "source": [
      "The next line of code downloads the primary halo catalog upon which the abthy results are based: z=0 Bolshoi halos identified by Rockstar. The version you will download has been pre-processed by Halotools and is frozen. These halos differ from the latest version of the Rockstar halos made publicly available by Peter Behroozi at `http://www.slac.stanford.edu/~behroozi/Bolshoi_Catalogs`. \n",
      "\n",
      "By executing the following line of code, you will download the pre-processed halo catalog to the Halotools cache directory on your local machine, `$HOME/.astropy.cache/halotools`. "
     ]
    },
    {
     "cell_type": "code",
     "collapsed": false,
     "input": [],
     "language": "python",
     "metadata": {},
     "outputs": [],
     "prompt_number": 4
    },
    {
     "cell_type": "code",
     "collapsed": false,
     "input": [],
     "language": "python",
     "metadata": {},
     "outputs": []
    }
   ],
   "metadata": {}
  }
 ]
}